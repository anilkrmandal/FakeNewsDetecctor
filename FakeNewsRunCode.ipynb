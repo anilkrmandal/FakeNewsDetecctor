{
  "nbformat": 4,
  "nbformat_minor": 0,
  "metadata": {
    "colab": {
      "provenance": []
    },
    "kernelspec": {
      "name": "python3",
      "display_name": "Python 3"
    },
    "language_info": {
      "name": "python"
    }
  },
  "cells": [
    {
      "cell_type": "code",
      "execution_count": null,
      "metadata": {
        "id": "le2PmZUMNTLU"
      },
      "outputs": [],
      "source": [
        "import numpy as np # linear algebra\n",
        "import pandas as pd #data processing\n",
        "import matplotlib.pyplot as plt\n",
        "import seaborn as sns"
      ]
    },
    {
      "cell_type": "code",
      "source": [
        "data=pd.read_csv('/content/WELFake_Dataset.csv')"
      ],
      "metadata": {
        "id": "XjN9NtklE2PI"
      },
      "execution_count": null,
      "outputs": []
    },
    {
      "cell_type": "code",
      "source": [
        "print(data.shape)"
      ],
      "metadata": {
        "colab": {
          "base_uri": "https://localhost:8080/"
        },
        "id": "AevYHB_-FI_d",
        "outputId": "8165a5c2-44df-47f8-d70a-bfd1725a7409"
      },
      "execution_count": null,
      "outputs": [
        {
          "output_type": "stream",
          "name": "stdout",
          "text": [
            "(72134, 4)\n"
          ]
        }
      ]
    },
    {
      "cell_type": "code",
      "source": [
        "data.head()"
      ],
      "metadata": {
        "colab": {
          "base_uri": "https://localhost:8080/",
          "height": 206
        },
        "id": "SfyToZ7pFVsg",
        "outputId": "676c1367-46ae-4278-eefb-4b1c3095635f"
      },
      "execution_count": null,
      "outputs": [
        {
          "output_type": "execute_result",
          "data": {
            "text/plain": [
              "   Unnamed: 0                                              title  \\\n",
              "0           0  LAW ENFORCEMENT ON HIGH ALERT Following Threat...   \n",
              "1           1                                                NaN   \n",
              "2           2  UNBELIEVABLE! OBAMA’S ATTORNEY GENERAL SAYS MO...   \n",
              "3           3  Bobby Jindal, raised Hindu, uses story of Chri...   \n",
              "4           4  SATAN 2: Russia unvelis an image of its terrif...   \n",
              "\n",
              "                                                text  label  \n",
              "0  No comment is expected from Barack Obama Membe...      1  \n",
              "1     Did they post their votes for Hillary already?      1  \n",
              "2   Now, most of the demonstrators gathered last ...      1  \n",
              "3  A dozen politically active pastors came here f...      0  \n",
              "4  The RS-28 Sarmat missile, dubbed Satan 2, will...      1  "
            ],
            "text/html": [
              "\n",
              "  <div id=\"df-4fd41898-ccae-4e0f-a000-85f79505c8ef\" class=\"colab-df-container\">\n",
              "    <div>\n",
              "<style scoped>\n",
              "    .dataframe tbody tr th:only-of-type {\n",
              "        vertical-align: middle;\n",
              "    }\n",
              "\n",
              "    .dataframe tbody tr th {\n",
              "        vertical-align: top;\n",
              "    }\n",
              "\n",
              "    .dataframe thead th {\n",
              "        text-align: right;\n",
              "    }\n",
              "</style>\n",
              "<table border=\"1\" class=\"dataframe\">\n",
              "  <thead>\n",
              "    <tr style=\"text-align: right;\">\n",
              "      <th></th>\n",
              "      <th>Unnamed: 0</th>\n",
              "      <th>title</th>\n",
              "      <th>text</th>\n",
              "      <th>label</th>\n",
              "    </tr>\n",
              "  </thead>\n",
              "  <tbody>\n",
              "    <tr>\n",
              "      <th>0</th>\n",
              "      <td>0</td>\n",
              "      <td>LAW ENFORCEMENT ON HIGH ALERT Following Threat...</td>\n",
              "      <td>No comment is expected from Barack Obama Membe...</td>\n",
              "      <td>1</td>\n",
              "    </tr>\n",
              "    <tr>\n",
              "      <th>1</th>\n",
              "      <td>1</td>\n",
              "      <td>NaN</td>\n",
              "      <td>Did they post their votes for Hillary already?</td>\n",
              "      <td>1</td>\n",
              "    </tr>\n",
              "    <tr>\n",
              "      <th>2</th>\n",
              "      <td>2</td>\n",
              "      <td>UNBELIEVABLE! OBAMA’S ATTORNEY GENERAL SAYS MO...</td>\n",
              "      <td>Now, most of the demonstrators gathered last ...</td>\n",
              "      <td>1</td>\n",
              "    </tr>\n",
              "    <tr>\n",
              "      <th>3</th>\n",
              "      <td>3</td>\n",
              "      <td>Bobby Jindal, raised Hindu, uses story of Chri...</td>\n",
              "      <td>A dozen politically active pastors came here f...</td>\n",
              "      <td>0</td>\n",
              "    </tr>\n",
              "    <tr>\n",
              "      <th>4</th>\n",
              "      <td>4</td>\n",
              "      <td>SATAN 2: Russia unvelis an image of its terrif...</td>\n",
              "      <td>The RS-28 Sarmat missile, dubbed Satan 2, will...</td>\n",
              "      <td>1</td>\n",
              "    </tr>\n",
              "  </tbody>\n",
              "</table>\n",
              "</div>\n",
              "    <div class=\"colab-df-buttons\">\n",
              "\n",
              "  <div class=\"colab-df-container\">\n",
              "    <button class=\"colab-df-convert\" onclick=\"convertToInteractive('df-4fd41898-ccae-4e0f-a000-85f79505c8ef')\"\n",
              "            title=\"Convert this dataframe to an interactive table.\"\n",
              "            style=\"display:none;\">\n",
              "\n",
              "  <svg xmlns=\"http://www.w3.org/2000/svg\" height=\"24px\" viewBox=\"0 -960 960 960\">\n",
              "    <path d=\"M120-120v-720h720v720H120Zm60-500h600v-160H180v160Zm220 220h160v-160H400v160Zm0 220h160v-160H400v160ZM180-400h160v-160H180v160Zm440 0h160v-160H620v160ZM180-180h160v-160H180v160Zm440 0h160v-160H620v160Z\"/>\n",
              "  </svg>\n",
              "    </button>\n",
              "\n",
              "  <style>\n",
              "    .colab-df-container {\n",
              "      display:flex;\n",
              "      gap: 12px;\n",
              "    }\n",
              "\n",
              "    .colab-df-convert {\n",
              "      background-color: #E8F0FE;\n",
              "      border: none;\n",
              "      border-radius: 50%;\n",
              "      cursor: pointer;\n",
              "      display: none;\n",
              "      fill: #1967D2;\n",
              "      height: 32px;\n",
              "      padding: 0 0 0 0;\n",
              "      width: 32px;\n",
              "    }\n",
              "\n",
              "    .colab-df-convert:hover {\n",
              "      background-color: #E2EBFA;\n",
              "      box-shadow: 0px 1px 2px rgba(60, 64, 67, 0.3), 0px 1px 3px 1px rgba(60, 64, 67, 0.15);\n",
              "      fill: #174EA6;\n",
              "    }\n",
              "\n",
              "    .colab-df-buttons div {\n",
              "      margin-bottom: 4px;\n",
              "    }\n",
              "\n",
              "    [theme=dark] .colab-df-convert {\n",
              "      background-color: #3B4455;\n",
              "      fill: #D2E3FC;\n",
              "    }\n",
              "\n",
              "    [theme=dark] .colab-df-convert:hover {\n",
              "      background-color: #434B5C;\n",
              "      box-shadow: 0px 1px 3px 1px rgba(0, 0, 0, 0.15);\n",
              "      filter: drop-shadow(0px 1px 2px rgba(0, 0, 0, 0.3));\n",
              "      fill: #FFFFFF;\n",
              "    }\n",
              "  </style>\n",
              "\n",
              "    <script>\n",
              "      const buttonEl =\n",
              "        document.querySelector('#df-4fd41898-ccae-4e0f-a000-85f79505c8ef button.colab-df-convert');\n",
              "      buttonEl.style.display =\n",
              "        google.colab.kernel.accessAllowed ? 'block' : 'none';\n",
              "\n",
              "      async function convertToInteractive(key) {\n",
              "        const element = document.querySelector('#df-4fd41898-ccae-4e0f-a000-85f79505c8ef');\n",
              "        const dataTable =\n",
              "          await google.colab.kernel.invokeFunction('convertToInteractive',\n",
              "                                                    [key], {});\n",
              "        if (!dataTable) return;\n",
              "\n",
              "        const docLinkHtml = 'Like what you see? Visit the ' +\n",
              "          '<a target=\"_blank\" href=https://colab.research.google.com/notebooks/data_table.ipynb>data table notebook</a>'\n",
              "          + ' to learn more about interactive tables.';\n",
              "        element.innerHTML = '';\n",
              "        dataTable['output_type'] = 'display_data';\n",
              "        await google.colab.output.renderOutput(dataTable, element);\n",
              "        const docLink = document.createElement('div');\n",
              "        docLink.innerHTML = docLinkHtml;\n",
              "        element.appendChild(docLink);\n",
              "      }\n",
              "    </script>\n",
              "  </div>\n",
              "\n",
              "\n",
              "<div id=\"df-6d4ac1fb-bd4e-4a41-afe7-d2e83f082635\">\n",
              "  <button class=\"colab-df-quickchart\" onclick=\"quickchart('df-6d4ac1fb-bd4e-4a41-afe7-d2e83f082635')\"\n",
              "            title=\"Suggest charts\"\n",
              "            style=\"display:none;\">\n",
              "\n",
              "<svg xmlns=\"http://www.w3.org/2000/svg\" height=\"24px\"viewBox=\"0 0 24 24\"\n",
              "     width=\"24px\">\n",
              "    <g>\n",
              "        <path d=\"M19 3H5c-1.1 0-2 .9-2 2v14c0 1.1.9 2 2 2h14c1.1 0 2-.9 2-2V5c0-1.1-.9-2-2-2zM9 17H7v-7h2v7zm4 0h-2V7h2v10zm4 0h-2v-4h2v4z\"/>\n",
              "    </g>\n",
              "</svg>\n",
              "  </button>\n",
              "\n",
              "<style>\n",
              "  .colab-df-quickchart {\n",
              "      --bg-color: #E8F0FE;\n",
              "      --fill-color: #1967D2;\n",
              "      --hover-bg-color: #E2EBFA;\n",
              "      --hover-fill-color: #174EA6;\n",
              "      --disabled-fill-color: #AAA;\n",
              "      --disabled-bg-color: #DDD;\n",
              "  }\n",
              "\n",
              "  [theme=dark] .colab-df-quickchart {\n",
              "      --bg-color: #3B4455;\n",
              "      --fill-color: #D2E3FC;\n",
              "      --hover-bg-color: #434B5C;\n",
              "      --hover-fill-color: #FFFFFF;\n",
              "      --disabled-bg-color: #3B4455;\n",
              "      --disabled-fill-color: #666;\n",
              "  }\n",
              "\n",
              "  .colab-df-quickchart {\n",
              "    background-color: var(--bg-color);\n",
              "    border: none;\n",
              "    border-radius: 50%;\n",
              "    cursor: pointer;\n",
              "    display: none;\n",
              "    fill: var(--fill-color);\n",
              "    height: 32px;\n",
              "    padding: 0;\n",
              "    width: 32px;\n",
              "  }\n",
              "\n",
              "  .colab-df-quickchart:hover {\n",
              "    background-color: var(--hover-bg-color);\n",
              "    box-shadow: 0 1px 2px rgba(60, 64, 67, 0.3), 0 1px 3px 1px rgba(60, 64, 67, 0.15);\n",
              "    fill: var(--button-hover-fill-color);\n",
              "  }\n",
              "\n",
              "  .colab-df-quickchart-complete:disabled,\n",
              "  .colab-df-quickchart-complete:disabled:hover {\n",
              "    background-color: var(--disabled-bg-color);\n",
              "    fill: var(--disabled-fill-color);\n",
              "    box-shadow: none;\n",
              "  }\n",
              "\n",
              "  .colab-df-spinner {\n",
              "    border: 2px solid var(--fill-color);\n",
              "    border-color: transparent;\n",
              "    border-bottom-color: var(--fill-color);\n",
              "    animation:\n",
              "      spin 1s steps(1) infinite;\n",
              "  }\n",
              "\n",
              "  @keyframes spin {\n",
              "    0% {\n",
              "      border-color: transparent;\n",
              "      border-bottom-color: var(--fill-color);\n",
              "      border-left-color: var(--fill-color);\n",
              "    }\n",
              "    20% {\n",
              "      border-color: transparent;\n",
              "      border-left-color: var(--fill-color);\n",
              "      border-top-color: var(--fill-color);\n",
              "    }\n",
              "    30% {\n",
              "      border-color: transparent;\n",
              "      border-left-color: var(--fill-color);\n",
              "      border-top-color: var(--fill-color);\n",
              "      border-right-color: var(--fill-color);\n",
              "    }\n",
              "    40% {\n",
              "      border-color: transparent;\n",
              "      border-right-color: var(--fill-color);\n",
              "      border-top-color: var(--fill-color);\n",
              "    }\n",
              "    60% {\n",
              "      border-color: transparent;\n",
              "      border-right-color: var(--fill-color);\n",
              "    }\n",
              "    80% {\n",
              "      border-color: transparent;\n",
              "      border-right-color: var(--fill-color);\n",
              "      border-bottom-color: var(--fill-color);\n",
              "    }\n",
              "    90% {\n",
              "      border-color: transparent;\n",
              "      border-bottom-color: var(--fill-color);\n",
              "    }\n",
              "  }\n",
              "</style>\n",
              "\n",
              "  <script>\n",
              "    async function quickchart(key) {\n",
              "      const quickchartButtonEl =\n",
              "        document.querySelector('#' + key + ' button');\n",
              "      quickchartButtonEl.disabled = true;  // To prevent multiple clicks.\n",
              "      quickchartButtonEl.classList.add('colab-df-spinner');\n",
              "      try {\n",
              "        const charts = await google.colab.kernel.invokeFunction(\n",
              "            'suggestCharts', [key], {});\n",
              "      } catch (error) {\n",
              "        console.error('Error during call to suggestCharts:', error);\n",
              "      }\n",
              "      quickchartButtonEl.classList.remove('colab-df-spinner');\n",
              "      quickchartButtonEl.classList.add('colab-df-quickchart-complete');\n",
              "    }\n",
              "    (() => {\n",
              "      let quickchartButtonEl =\n",
              "        document.querySelector('#df-6d4ac1fb-bd4e-4a41-afe7-d2e83f082635 button');\n",
              "      quickchartButtonEl.style.display =\n",
              "        google.colab.kernel.accessAllowed ? 'block' : 'none';\n",
              "    })();\n",
              "  </script>\n",
              "</div>\n",
              "\n",
              "    </div>\n",
              "  </div>\n"
            ],
            "application/vnd.google.colaboratory.intrinsic+json": {
              "type": "dataframe",
              "variable_name": "data",
              "summary": "{\n  \"name\": \"data\",\n  \"rows\": 72134,\n  \"fields\": [\n    {\n      \"column\": \"Unnamed: 0\",\n      \"properties\": {\n        \"dtype\": \"number\",\n        \"std\": 20823,\n        \"min\": 0,\n        \"max\": 72133,\n        \"num_unique_values\": 72134,\n        \"samples\": [\n          61370,\n          2189,\n          60609\n        ],\n        \"semantic_type\": \"\",\n        \"description\": \"\"\n      }\n    },\n    {\n      \"column\": \"title\",\n      \"properties\": {\n        \"dtype\": \"string\",\n        \"num_unique_values\": 62347,\n        \"samples\": [\n          \"BBC Under Fire for \\u2018Transgender Diaries\\u2019 Program Aimed at Children as Young as Six\",\n          \" Hillary\\u2019s Running Mate Tim Kaine: The NRA Hates Him, And He Kicked Their Butts (VIDEO)\",\n          \" Trump Outrageously Refers To Elizabeth Warren As \\u2018Pocahontas\\u2019 During Meeting With Senators\"\n        ],\n        \"semantic_type\": \"\",\n        \"description\": \"\"\n      }\n    },\n    {\n      \"column\": \"text\",\n      \"properties\": {\n        \"dtype\": \"string\",\n        \"num_unique_values\": 62718,\n        \"samples\": [\n          \"WASHINGTON (Reuters) - Michael Cohen, one of President Donald Trump\\u2019s closest business advisers, said on Sunday he would testify on Tuesday to the U.S. Senate Intelligence Committee, as the panel investigates alleged Russian interference in the 2016 U.S. election. The timing of Cohen\\u2019s testimony was first reported by NBC. Cohen confirmed that he would testify to the committee on Tuesday and said he did not know whether it would be in a closed session or public. Aides to the committee\\u2019s leaders did not immediately respond to requests for comment. Cohen said previously he had received a subpoena from at least one of the congressional committees investigating what U.S. intelligence has determined were Russia\\u2019s efforts to influence the election on Trump\\u2019s behalf, and whether Trump associates colluded with Russia. Russia denies such activity. The White House denies any collusion, but concerns about the issue and Trump\\u2019s ties to Russia have shadowed the first months of the Republican\\u2019s presidency. Cohen, a personal attorney to Trump, would be one of a series of close associates of the president to testify in Congress. Members of both the Senate and House of Representatives committees conducting investigations have said they expect to call more. Trump\\u2019s oldest son, Donald Trump Jr., testified to the Senate Judiciary Committee earlier this month. \",\n          \"HARARE (Reuters) - Zimbabwe s main opposition leader said on Monday President Robert Mugabe s refusal to resign had dampened people s spirits and called for an inclusive political process in the aftermath of a military intervention last week. Morgan Tsvangirai said there should be an all-stakeholders meeting to chart the country s future and that the next elections due next year should be supervised by the international community. \",\n          \"There is no word yet about whether or not the Hispanics in question were referred to by the plaintiff as  White Hispanics, (the George Zimmerman variety) Legendary restaurant Roscoe s House of Chicken  n Waffles has to cough up $1.6 million in an unlawful termination suit to an African American man who claimed he was discriminated against because he was black.The claim proves to be somewhat ironic given that the owner of the eatery, where President Barack Obama once dined when visiting Compton, is African American.CBS Los Angeles reported that Daniel Beasley sued Roscoe s for firing him after he complained to human resources that the managers harassed him for being black and gave preferential treatment, such as better work hours, to the Hispanic employees. It s owned by an African American owner, but he gives full authority to the Hispanics to run it,  Beasley told reporters.  It just caught me by surprise because here I am getting fired when I m trying to fix the problem. Beasley was frustrated that his complaints to management never got addressed, so he sued.  It s owned by an African American owner, but he gives full authority to the Hispanics to run it,  he told reporters.  It just caught me by surprise because here I am getting fired when I m trying to fix the problem. Beasley explained to CBS that he became homeless after he lost his job, so the hefty settlement becomes a huge victory for the grandfather from Compton.His lawyer Scott Cummings hopes that this win sends a message to other businesses out there.  Racism, racial harassment can occur really anywhere even in a black-owned business,  he asserted. Beasley added,  You can t treat people like that and get away with it constantly.  Via: Breitbart News\"\n        ],\n        \"semantic_type\": \"\",\n        \"description\": \"\"\n      }\n    },\n    {\n      \"column\": \"label\",\n      \"properties\": {\n        \"dtype\": \"number\",\n        \"std\": 0,\n        \"min\": 0,\n        \"max\": 1,\n        \"num_unique_values\": 2,\n        \"samples\": [\n          0,\n          1\n        ],\n        \"semantic_type\": \"\",\n        \"description\": \"\"\n      }\n    }\n  ]\n}"
            }
          },
          "metadata": {},
          "execution_count": 7
        }
      ]
    },
    {
      "cell_type": "code",
      "source": [
        "print(data.isnull().sum())"
      ],
      "metadata": {
        "colab": {
          "base_uri": "https://localhost:8080/"
        },
        "id": "uIAKENzhFex3",
        "outputId": "ac43800d-7b96-469f-8549-8555bc0b9435"
      },
      "execution_count": null,
      "outputs": [
        {
          "output_type": "stream",
          "name": "stdout",
          "text": [
            "Unnamed: 0      0\n",
            "title         558\n",
            "text           39\n",
            "label           0\n",
            "dtype: int64\n"
          ]
        }
      ]
    },
    {
      "cell_type": "code",
      "source": [
        "data=data.fillna(' ')"
      ],
      "metadata": {
        "id": "9BNqFU-yF7wy"
      },
      "execution_count": null,
      "outputs": []
    },
    {
      "cell_type": "code",
      "source": [
        "data.head()"
      ],
      "metadata": {
        "colab": {
          "base_uri": "https://localhost:8080/",
          "height": 206
        },
        "id": "AIy5kGZeGB0m",
        "outputId": "b46cb015-56f0-4844-fb86-0b9889172bfc"
      },
      "execution_count": null,
      "outputs": [
        {
          "output_type": "execute_result",
          "data": {
            "text/plain": [
              "   Unnamed: 0                                              title  \\\n",
              "0           0  LAW ENFORCEMENT ON HIGH ALERT Following Threat...   \n",
              "1           1                                                      \n",
              "2           2  UNBELIEVABLE! OBAMA’S ATTORNEY GENERAL SAYS MO...   \n",
              "3           3  Bobby Jindal, raised Hindu, uses story of Chri...   \n",
              "4           4  SATAN 2: Russia unvelis an image of its terrif...   \n",
              "\n",
              "                                                text  label  \n",
              "0  No comment is expected from Barack Obama Membe...      1  \n",
              "1     Did they post their votes for Hillary already?      1  \n",
              "2   Now, most of the demonstrators gathered last ...      1  \n",
              "3  A dozen politically active pastors came here f...      0  \n",
              "4  The RS-28 Sarmat missile, dubbed Satan 2, will...      1  "
            ],
            "text/html": [
              "\n",
              "  <div id=\"df-1a8d008c-26e2-4edf-b53d-f1f01277f952\" class=\"colab-df-container\">\n",
              "    <div>\n",
              "<style scoped>\n",
              "    .dataframe tbody tr th:only-of-type {\n",
              "        vertical-align: middle;\n",
              "    }\n",
              "\n",
              "    .dataframe tbody tr th {\n",
              "        vertical-align: top;\n",
              "    }\n",
              "\n",
              "    .dataframe thead th {\n",
              "        text-align: right;\n",
              "    }\n",
              "</style>\n",
              "<table border=\"1\" class=\"dataframe\">\n",
              "  <thead>\n",
              "    <tr style=\"text-align: right;\">\n",
              "      <th></th>\n",
              "      <th>Unnamed: 0</th>\n",
              "      <th>title</th>\n",
              "      <th>text</th>\n",
              "      <th>label</th>\n",
              "    </tr>\n",
              "  </thead>\n",
              "  <tbody>\n",
              "    <tr>\n",
              "      <th>0</th>\n",
              "      <td>0</td>\n",
              "      <td>LAW ENFORCEMENT ON HIGH ALERT Following Threat...</td>\n",
              "      <td>No comment is expected from Barack Obama Membe...</td>\n",
              "      <td>1</td>\n",
              "    </tr>\n",
              "    <tr>\n",
              "      <th>1</th>\n",
              "      <td>1</td>\n",
              "      <td></td>\n",
              "      <td>Did they post their votes for Hillary already?</td>\n",
              "      <td>1</td>\n",
              "    </tr>\n",
              "    <tr>\n",
              "      <th>2</th>\n",
              "      <td>2</td>\n",
              "      <td>UNBELIEVABLE! OBAMA’S ATTORNEY GENERAL SAYS MO...</td>\n",
              "      <td>Now, most of the demonstrators gathered last ...</td>\n",
              "      <td>1</td>\n",
              "    </tr>\n",
              "    <tr>\n",
              "      <th>3</th>\n",
              "      <td>3</td>\n",
              "      <td>Bobby Jindal, raised Hindu, uses story of Chri...</td>\n",
              "      <td>A dozen politically active pastors came here f...</td>\n",
              "      <td>0</td>\n",
              "    </tr>\n",
              "    <tr>\n",
              "      <th>4</th>\n",
              "      <td>4</td>\n",
              "      <td>SATAN 2: Russia unvelis an image of its terrif...</td>\n",
              "      <td>The RS-28 Sarmat missile, dubbed Satan 2, will...</td>\n",
              "      <td>1</td>\n",
              "    </tr>\n",
              "  </tbody>\n",
              "</table>\n",
              "</div>\n",
              "    <div class=\"colab-df-buttons\">\n",
              "\n",
              "  <div class=\"colab-df-container\">\n",
              "    <button class=\"colab-df-convert\" onclick=\"convertToInteractive('df-1a8d008c-26e2-4edf-b53d-f1f01277f952')\"\n",
              "            title=\"Convert this dataframe to an interactive table.\"\n",
              "            style=\"display:none;\">\n",
              "\n",
              "  <svg xmlns=\"http://www.w3.org/2000/svg\" height=\"24px\" viewBox=\"0 -960 960 960\">\n",
              "    <path d=\"M120-120v-720h720v720H120Zm60-500h600v-160H180v160Zm220 220h160v-160H400v160Zm0 220h160v-160H400v160ZM180-400h160v-160H180v160Zm440 0h160v-160H620v160ZM180-180h160v-160H180v160Zm440 0h160v-160H620v160Z\"/>\n",
              "  </svg>\n",
              "    </button>\n",
              "\n",
              "  <style>\n",
              "    .colab-df-container {\n",
              "      display:flex;\n",
              "      gap: 12px;\n",
              "    }\n",
              "\n",
              "    .colab-df-convert {\n",
              "      background-color: #E8F0FE;\n",
              "      border: none;\n",
              "      border-radius: 50%;\n",
              "      cursor: pointer;\n",
              "      display: none;\n",
              "      fill: #1967D2;\n",
              "      height: 32px;\n",
              "      padding: 0 0 0 0;\n",
              "      width: 32px;\n",
              "    }\n",
              "\n",
              "    .colab-df-convert:hover {\n",
              "      background-color: #E2EBFA;\n",
              "      box-shadow: 0px 1px 2px rgba(60, 64, 67, 0.3), 0px 1px 3px 1px rgba(60, 64, 67, 0.15);\n",
              "      fill: #174EA6;\n",
              "    }\n",
              "\n",
              "    .colab-df-buttons div {\n",
              "      margin-bottom: 4px;\n",
              "    }\n",
              "\n",
              "    [theme=dark] .colab-df-convert {\n",
              "      background-color: #3B4455;\n",
              "      fill: #D2E3FC;\n",
              "    }\n",
              "\n",
              "    [theme=dark] .colab-df-convert:hover {\n",
              "      background-color: #434B5C;\n",
              "      box-shadow: 0px 1px 3px 1px rgba(0, 0, 0, 0.15);\n",
              "      filter: drop-shadow(0px 1px 2px rgba(0, 0, 0, 0.3));\n",
              "      fill: #FFFFFF;\n",
              "    }\n",
              "  </style>\n",
              "\n",
              "    <script>\n",
              "      const buttonEl =\n",
              "        document.querySelector('#df-1a8d008c-26e2-4edf-b53d-f1f01277f952 button.colab-df-convert');\n",
              "      buttonEl.style.display =\n",
              "        google.colab.kernel.accessAllowed ? 'block' : 'none';\n",
              "\n",
              "      async function convertToInteractive(key) {\n",
              "        const element = document.querySelector('#df-1a8d008c-26e2-4edf-b53d-f1f01277f952');\n",
              "        const dataTable =\n",
              "          await google.colab.kernel.invokeFunction('convertToInteractive',\n",
              "                                                    [key], {});\n",
              "        if (!dataTable) return;\n",
              "\n",
              "        const docLinkHtml = 'Like what you see? Visit the ' +\n",
              "          '<a target=\"_blank\" href=https://colab.research.google.com/notebooks/data_table.ipynb>data table notebook</a>'\n",
              "          + ' to learn more about interactive tables.';\n",
              "        element.innerHTML = '';\n",
              "        dataTable['output_type'] = 'display_data';\n",
              "        await google.colab.output.renderOutput(dataTable, element);\n",
              "        const docLink = document.createElement('div');\n",
              "        docLink.innerHTML = docLinkHtml;\n",
              "        element.appendChild(docLink);\n",
              "      }\n",
              "    </script>\n",
              "  </div>\n",
              "\n",
              "\n",
              "<div id=\"df-a961c2ef-9962-46ee-a9bb-5ed42f3384f5\">\n",
              "  <button class=\"colab-df-quickchart\" onclick=\"quickchart('df-a961c2ef-9962-46ee-a9bb-5ed42f3384f5')\"\n",
              "            title=\"Suggest charts\"\n",
              "            style=\"display:none;\">\n",
              "\n",
              "<svg xmlns=\"http://www.w3.org/2000/svg\" height=\"24px\"viewBox=\"0 0 24 24\"\n",
              "     width=\"24px\">\n",
              "    <g>\n",
              "        <path d=\"M19 3H5c-1.1 0-2 .9-2 2v14c0 1.1.9 2 2 2h14c1.1 0 2-.9 2-2V5c0-1.1-.9-2-2-2zM9 17H7v-7h2v7zm4 0h-2V7h2v10zm4 0h-2v-4h2v4z\"/>\n",
              "    </g>\n",
              "</svg>\n",
              "  </button>\n",
              "\n",
              "<style>\n",
              "  .colab-df-quickchart {\n",
              "      --bg-color: #E8F0FE;\n",
              "      --fill-color: #1967D2;\n",
              "      --hover-bg-color: #E2EBFA;\n",
              "      --hover-fill-color: #174EA6;\n",
              "      --disabled-fill-color: #AAA;\n",
              "      --disabled-bg-color: #DDD;\n",
              "  }\n",
              "\n",
              "  [theme=dark] .colab-df-quickchart {\n",
              "      --bg-color: #3B4455;\n",
              "      --fill-color: #D2E3FC;\n",
              "      --hover-bg-color: #434B5C;\n",
              "      --hover-fill-color: #FFFFFF;\n",
              "      --disabled-bg-color: #3B4455;\n",
              "      --disabled-fill-color: #666;\n",
              "  }\n",
              "\n",
              "  .colab-df-quickchart {\n",
              "    background-color: var(--bg-color);\n",
              "    border: none;\n",
              "    border-radius: 50%;\n",
              "    cursor: pointer;\n",
              "    display: none;\n",
              "    fill: var(--fill-color);\n",
              "    height: 32px;\n",
              "    padding: 0;\n",
              "    width: 32px;\n",
              "  }\n",
              "\n",
              "  .colab-df-quickchart:hover {\n",
              "    background-color: var(--hover-bg-color);\n",
              "    box-shadow: 0 1px 2px rgba(60, 64, 67, 0.3), 0 1px 3px 1px rgba(60, 64, 67, 0.15);\n",
              "    fill: var(--button-hover-fill-color);\n",
              "  }\n",
              "\n",
              "  .colab-df-quickchart-complete:disabled,\n",
              "  .colab-df-quickchart-complete:disabled:hover {\n",
              "    background-color: var(--disabled-bg-color);\n",
              "    fill: var(--disabled-fill-color);\n",
              "    box-shadow: none;\n",
              "  }\n",
              "\n",
              "  .colab-df-spinner {\n",
              "    border: 2px solid var(--fill-color);\n",
              "    border-color: transparent;\n",
              "    border-bottom-color: var(--fill-color);\n",
              "    animation:\n",
              "      spin 1s steps(1) infinite;\n",
              "  }\n",
              "\n",
              "  @keyframes spin {\n",
              "    0% {\n",
              "      border-color: transparent;\n",
              "      border-bottom-color: var(--fill-color);\n",
              "      border-left-color: var(--fill-color);\n",
              "    }\n",
              "    20% {\n",
              "      border-color: transparent;\n",
              "      border-left-color: var(--fill-color);\n",
              "      border-top-color: var(--fill-color);\n",
              "    }\n",
              "    30% {\n",
              "      border-color: transparent;\n",
              "      border-left-color: var(--fill-color);\n",
              "      border-top-color: var(--fill-color);\n",
              "      border-right-color: var(--fill-color);\n",
              "    }\n",
              "    40% {\n",
              "      border-color: transparent;\n",
              "      border-right-color: var(--fill-color);\n",
              "      border-top-color: var(--fill-color);\n",
              "    }\n",
              "    60% {\n",
              "      border-color: transparent;\n",
              "      border-right-color: var(--fill-color);\n",
              "    }\n",
              "    80% {\n",
              "      border-color: transparent;\n",
              "      border-right-color: var(--fill-color);\n",
              "      border-bottom-color: var(--fill-color);\n",
              "    }\n",
              "    90% {\n",
              "      border-color: transparent;\n",
              "      border-bottom-color: var(--fill-color);\n",
              "    }\n",
              "  }\n",
              "</style>\n",
              "\n",
              "  <script>\n",
              "    async function quickchart(key) {\n",
              "      const quickchartButtonEl =\n",
              "        document.querySelector('#' + key + ' button');\n",
              "      quickchartButtonEl.disabled = true;  // To prevent multiple clicks.\n",
              "      quickchartButtonEl.classList.add('colab-df-spinner');\n",
              "      try {\n",
              "        const charts = await google.colab.kernel.invokeFunction(\n",
              "            'suggestCharts', [key], {});\n",
              "      } catch (error) {\n",
              "        console.error('Error during call to suggestCharts:', error);\n",
              "      }\n",
              "      quickchartButtonEl.classList.remove('colab-df-spinner');\n",
              "      quickchartButtonEl.classList.add('colab-df-quickchart-complete');\n",
              "    }\n",
              "    (() => {\n",
              "      let quickchartButtonEl =\n",
              "        document.querySelector('#df-a961c2ef-9962-46ee-a9bb-5ed42f3384f5 button');\n",
              "      quickchartButtonEl.style.display =\n",
              "        google.colab.kernel.accessAllowed ? 'block' : 'none';\n",
              "    })();\n",
              "  </script>\n",
              "</div>\n",
              "\n",
              "    </div>\n",
              "  </div>\n"
            ],
            "application/vnd.google.colaboratory.intrinsic+json": {
              "type": "dataframe",
              "variable_name": "data",
              "summary": "{\n  \"name\": \"data\",\n  \"rows\": 72134,\n  \"fields\": [\n    {\n      \"column\": \"Unnamed: 0\",\n      \"properties\": {\n        \"dtype\": \"number\",\n        \"std\": 20823,\n        \"min\": 0,\n        \"max\": 72133,\n        \"num_unique_values\": 72134,\n        \"samples\": [\n          61370,\n          2189,\n          60609\n        ],\n        \"semantic_type\": \"\",\n        \"description\": \"\"\n      }\n    },\n    {\n      \"column\": \"title\",\n      \"properties\": {\n        \"dtype\": \"string\",\n        \"num_unique_values\": 62348,\n        \"samples\": [\n          \"Reporters barred from Kushner Companies' event in China\",\n          \"Bomb blast kills nine people in Pakistan, near Afghan border\",\n          \"War criminal or role model? It's a thin line in Serbia\"\n        ],\n        \"semantic_type\": \"\",\n        \"description\": \"\"\n      }\n    },\n    {\n      \"column\": \"text\",\n      \"properties\": {\n        \"dtype\": \"string\",\n        \"num_unique_values\": 62718,\n        \"samples\": [\n          \"WASHINGTON (Reuters) - Michael Cohen, one of President Donald Trump\\u2019s closest business advisers, said on Sunday he would testify on Tuesday to the U.S. Senate Intelligence Committee, as the panel investigates alleged Russian interference in the 2016 U.S. election. The timing of Cohen\\u2019s testimony was first reported by NBC. Cohen confirmed that he would testify to the committee on Tuesday and said he did not know whether it would be in a closed session or public. Aides to the committee\\u2019s leaders did not immediately respond to requests for comment. Cohen said previously he had received a subpoena from at least one of the congressional committees investigating what U.S. intelligence has determined were Russia\\u2019s efforts to influence the election on Trump\\u2019s behalf, and whether Trump associates colluded with Russia. Russia denies such activity. The White House denies any collusion, but concerns about the issue and Trump\\u2019s ties to Russia have shadowed the first months of the Republican\\u2019s presidency. Cohen, a personal attorney to Trump, would be one of a series of close associates of the president to testify in Congress. Members of both the Senate and House of Representatives committees conducting investigations have said they expect to call more. Trump\\u2019s oldest son, Donald Trump Jr., testified to the Senate Judiciary Committee earlier this month. \",\n          \"HARARE (Reuters) - Zimbabwe s main opposition leader said on Monday President Robert Mugabe s refusal to resign had dampened people s spirits and called for an inclusive political process in the aftermath of a military intervention last week. Morgan Tsvangirai said there should be an all-stakeholders meeting to chart the country s future and that the next elections due next year should be supervised by the international community. \",\n          \"There is no word yet about whether or not the Hispanics in question were referred to by the plaintiff as  White Hispanics, (the George Zimmerman variety) Legendary restaurant Roscoe s House of Chicken  n Waffles has to cough up $1.6 million in an unlawful termination suit to an African American man who claimed he was discriminated against because he was black.The claim proves to be somewhat ironic given that the owner of the eatery, where President Barack Obama once dined when visiting Compton, is African American.CBS Los Angeles reported that Daniel Beasley sued Roscoe s for firing him after he complained to human resources that the managers harassed him for being black and gave preferential treatment, such as better work hours, to the Hispanic employees. It s owned by an African American owner, but he gives full authority to the Hispanics to run it,  Beasley told reporters.  It just caught me by surprise because here I am getting fired when I m trying to fix the problem. Beasley was frustrated that his complaints to management never got addressed, so he sued.  It s owned by an African American owner, but he gives full authority to the Hispanics to run it,  he told reporters.  It just caught me by surprise because here I am getting fired when I m trying to fix the problem. Beasley explained to CBS that he became homeless after he lost his job, so the hefty settlement becomes a huge victory for the grandfather from Compton.His lawyer Scott Cummings hopes that this win sends a message to other businesses out there.  Racism, racial harassment can occur really anywhere even in a black-owned business,  he asserted. Beasley added,  You can t treat people like that and get away with it constantly.  Via: Breitbart News\"\n        ],\n        \"semantic_type\": \"\",\n        \"description\": \"\"\n      }\n    },\n    {\n      \"column\": \"label\",\n      \"properties\": {\n        \"dtype\": \"number\",\n        \"std\": 0,\n        \"min\": 0,\n        \"max\": 1,\n        \"num_unique_values\": 2,\n        \"samples\": [\n          0,\n          1\n        ],\n        \"semantic_type\": \"\",\n        \"description\": \"\"\n      }\n    }\n  ]\n}"
            }
          },
          "metadata": {},
          "execution_count": 10
        }
      ]
    },
    {
      "cell_type": "code",
      "source": [
        "import pandas as pd\n",
        "import re\n",
        "import nltk\n",
        "from nltk.corpus import stopwords\n",
        "from nltk.tokenize import word_tokenize, sent_tokenize\n",
        "from nltk.stem import WordNetLemmatizer"
      ],
      "metadata": {
        "id": "mzSYh_y4GmE-"
      },
      "execution_count": null,
      "outputs": []
    },
    {
      "cell_type": "code",
      "source": [
        "# Download necessary NLTK datasets\n",
        "nltk.download('punkt')\n",
        "nltk.download('stopwords')\n",
        "nltk.download('wordnet')"
      ],
      "metadata": {
        "colab": {
          "base_uri": "https://localhost:8080/"
        },
        "id": "1zVqFMlNIQmc",
        "outputId": "db7beef4-4327-4baa-c2e2-ef4fb6b1eb3d"
      },
      "execution_count": null,
      "outputs": [
        {
          "output_type": "stream",
          "name": "stderr",
          "text": [
            "[nltk_data] Downloading package punkt to /root/nltk_data...\n",
            "[nltk_data]   Unzipping tokenizers/punkt.zip.\n",
            "[nltk_data] Downloading package stopwords to /root/nltk_data...\n",
            "[nltk_data]   Unzipping corpora/stopwords.zip.\n",
            "[nltk_data] Downloading package wordnet to /root/nltk_data...\n"
          ]
        },
        {
          "output_type": "execute_result",
          "data": {
            "text/plain": [
              "True"
            ]
          },
          "metadata": {},
          "execution_count": 4
        }
      ]
    },
    {
      "cell_type": "code",
      "source": [
        "# Load the stop words and lemmatizer\n",
        "stop_words = set(stopwords.words('english'))\n",
        "lemmatizer = WordNetLemmatizer()"
      ],
      "metadata": {
        "id": "pGt9NbQEIV3x"
      },
      "execution_count": null,
      "outputs": []
    },
    {
      "cell_type": "code",
      "source": [
        "# Preprocessing Functions\n",
        "def preprocess_text(text):\n",
        "    \"\"\"Lowercase and remove non-essential characters.\"\"\"\n",
        "    text = text.lower()\n",
        "    text = re.sub(r'[^a-z0-9\\s]', '', text)  # Keep only alphanumeric and spaces\n",
        "    return text"
      ],
      "metadata": {
        "id": "_z1xQoduIZUs"
      },
      "execution_count": null,
      "outputs": []
    },
    {
      "cell_type": "code",
      "source": [
        "def tokenize_and_remove_stopwords(text):\n",
        "    \"\"\"Tokenize and remove stopwords.\"\"\"\n",
        "    sentences = sent_tokenize(text)\n",
        "    tokens = [word_tokenize(sentence) for sentence in sentences]\n",
        "    filtered_tokens = [[word for word in token_list if word not in stop_words] for token_list in tokens]\n",
        "    return filtered_tokens"
      ],
      "metadata": {
        "id": "_k7hFodbIbxC"
      },
      "execution_count": null,
      "outputs": []
    },
    {
      "cell_type": "code",
      "source": [
        "def regex_filter(text):\n",
        "    \"\"\"Remove numbers, URLs, emails, and phone numbers.\"\"\"\n",
        "    text = re.sub(r'\\d+', '', text)  # Remove numbers\n",
        "    text = re.sub(r'http\\S+|www\\S+', '', text)  # Remove URLs\n",
        "    text = re.sub(r'\\S+@\\S+', '', text)  # Remove email addresses\n",
        "    text = re.sub(r'\\(?\\d{3}\\)?[-.\\s]?\\d{3}[-.\\s]?\\d{4}', '', text)  # Remove phone numbers\n",
        "    return text"
      ],
      "metadata": {
        "id": "cussvnitIeS5"
      },
      "execution_count": null,
      "outputs": []
    },
    {
      "cell_type": "code",
      "source": [
        "import re\n",
        "def fin(text):\n",
        "  text=  re.sub(r'[^\\w\\s]', ' ',text)\n",
        "  text = re.sub(r'[ \\n]+', ' ', text)\n",
        "  return text"
      ],
      "metadata": {
        "id": "L9kvyRFJXnHe"
      },
      "execution_count": null,
      "outputs": []
    },
    {
      "cell_type": "code",
      "source": [
        "def lemmatize_text(tokens):\n",
        "    \"\"\"Lemmatize tokens.\"\"\"\n",
        "    lemmatized_tokens = [[lemmatizer.lemmatize(word) for word in token_list] for token_list in tokens]\n",
        "    return lemmatized_tokens"
      ],
      "metadata": {
        "id": "AWuvTIeFIgcR"
      },
      "execution_count": null,
      "outputs": []
    },
    {
      "cell_type": "code",
      "source": [
        "def full_preprocess_pipeline(text):\n",
        "    \"\"\"Complete preprocessing pipeline for a single text.\"\"\"\n",
        "    text = preprocess_text(text)  # Lowercase and remove non-essential characters\n",
        "    text = regex_filter(text)  # Remove numbers, URLs, emails, phone numbers\n",
        "    text = fin(text)  # Remove special characters and unwanted spaces\n",
        "    tokens = tokenize_and_remove_stopwords(text)  # Tokenize and remove stopwords\n",
        "    lemmatized_tokens = lemmatize_text(tokens)  # Lemmatize the tokens\n",
        "    cleaned_text = ' '.join([' '.join(sentence) for sentence in lemmatized_words])\n",
        "    return cleaned_text"
      ],
      "metadata": {
        "id": "kh07XiQzIkot"
      },
      "execution_count": null,
      "outputs": []
    },
    {
      "cell_type": "code",
      "source": [
        "# # Load DataFrame (Example: replace 'your_data.csv' with your actual file)\n",
        "# df = pd.read_csv('your_data.csv')\n",
        "\n",
        "# Apply preprocessing to the 'title' and 'text' columns\n",
        "# Apply preprocessing to the 'text' column\n",
        "data['cleaned_text'] = data['text'].apply(preprocess_text)\n",
        "data['cleaned_title'] = data['title'].apply(preprocess_text)\n",
        "\n",
        "# Optionally, drop the 'Unnamed: 0' column if it's not needed\n",
        "data = data.drop(columns=['Unnamed: 0'])\n",
        "\n",
        "# Show the processed dataframe\n",
        "print(data.head())\n",
        "\n",
        "# Save the processed dataframe to a new CSV file\n",
        "data.to_csv('processed_data.csv', index=False)"
      ],
      "metadata": {
        "colab": {
          "base_uri": "https://localhost:8080/"
        },
        "id": "OisaRdCUIlMb",
        "outputId": "f3c2fecd-9c8e-4eaa-ad16-6b5d40b56a3a"
      },
      "execution_count": null,
      "outputs": [
        {
          "output_type": "stream",
          "name": "stdout",
          "text": [
            "                                               title  \\\n",
            "0  LAW ENFORCEMENT ON HIGH ALERT Following Threat...   \n",
            "1                                                      \n",
            "2  UNBELIEVABLE! OBAMA’S ATTORNEY GENERAL SAYS MO...   \n",
            "3  Bobby Jindal, raised Hindu, uses story of Chri...   \n",
            "4  SATAN 2: Russia unvelis an image of its terrif...   \n",
            "\n",
            "                                                text  label  \\\n",
            "0  No comment is expected from Barack Obama Membe...      1   \n",
            "1     Did they post their votes for Hillary already?      1   \n",
            "2   Now, most of the demonstrators gathered last ...      1   \n",
            "3  A dozen politically active pastors came here f...      0   \n",
            "4  The RS-28 Sarmat missile, dubbed Satan 2, will...      1   \n",
            "\n",
            "                                        cleaned_text  \\\n",
            "0  no comment is expected from barack obama membe...   \n",
            "1      did they post their votes for hillary already   \n",
            "2   now most of the demonstrators gathered last n...   \n",
            "3  a dozen politically active pastors came here f...   \n",
            "4  the rs28 sarmat missile dubbed satan 2 will re...   \n",
            "\n",
            "                                       cleaned_title  \n",
            "0  law enforcement on high alert following threat...  \n",
            "1                                                     \n",
            "2  unbelievable obamas attorney general says most...  \n",
            "3  bobby jindal raised hindu uses story of christ...  \n",
            "4  satan 2 russia unvelis an image of its terrify...  \n"
          ]
        }
      ]
    },
    {
      "cell_type": "code",
      "source": [
        "processed_data=pd.read_csv('/content/processed_data.csv')"
      ],
      "metadata": {
        "id": "Ejm6obQIdtBz"
      },
      "execution_count": null,
      "outputs": []
    },
    {
      "cell_type": "code",
      "source": [
        "print(processed_data.head())"
      ],
      "metadata": {
        "colab": {
          "base_uri": "https://localhost:8080/"
        },
        "id": "kBdnJN1IeDUn",
        "outputId": "58054dd5-e250-479e-c054-9daf566b4f9d"
      },
      "execution_count": null,
      "outputs": [
        {
          "output_type": "stream",
          "name": "stdout",
          "text": [
            "                                               title  \\\n",
            "0  LAW ENFORCEMENT ON HIGH ALERT Following Threat...   \n",
            "1                                                      \n",
            "2  UNBELIEVABLE! OBAMA’S ATTORNEY GENERAL SAYS MO...   \n",
            "3  Bobby Jindal, raised Hindu, uses story of Chri...   \n",
            "4  SATAN 2: Russia unvelis an image of its terrif...   \n",
            "\n",
            "                                                text  label  \\\n",
            "0  No comment is expected from Barack Obama Membe...      1   \n",
            "1     Did they post their votes for Hillary already?      1   \n",
            "2   Now, most of the demonstrators gathered last ...      1   \n",
            "3  A dozen politically active pastors came here f...      0   \n",
            "4  The RS-28 Sarmat missile, dubbed Satan 2, will...      1   \n",
            "\n",
            "                                        cleaned_text  \\\n",
            "0  no comment is expected from barack obama membe...   \n",
            "1      did they post their votes for hillary already   \n",
            "2   now most of the demonstrators gathered last n...   \n",
            "3  a dozen politically active pastors came here f...   \n",
            "4  the rs28 sarmat missile dubbed satan 2 will re...   \n",
            "\n",
            "                                       cleaned_title  \n",
            "0  law enforcement on high alert following threat...  \n",
            "1                                                     \n",
            "2  unbelievable obamas attorney general says most...  \n",
            "3  bobby jindal raised hindu uses story of christ...  \n",
            "4  satan 2 russia unvelis an image of its terrify...  \n"
          ]
        }
      ]
    },
    {
      "cell_type": "code",
      "source": [
        "import pandas as pd\n",
        "from sklearn.model_selection import train_test_split\n",
        "\n",
        "# # Load your dataset (assuming it has 'text' column)\n",
        "# df = pd.read_csv('your_data.csv')\n",
        "\n",
        "# Step 1: Split the dataset into train and test sets (80% train, 20% test)\n",
        "train_df, test_df = train_test_split(processed_data, test_size=0.2, random_state=42)\n",
        "\n",
        "# Save the text column from train and test sets to separate text files\n",
        "train_df['cleaned_text'].to_csv('train_unsupervised.txt', index=False, header=False)\n",
        "test_df['cleaned_text'].to_csv('test_unsupervised.txt', index=False, header=False)\n"
      ],
      "metadata": {
        "id": "MCOV-6kMVZ5Y"
      },
      "execution_count": null,
      "outputs": []
    },
    {
      "cell_type": "code",
      "source": [
        "test=pd.read_csv('/content/test_unsupervised.txt')\n",
        "train=pd.read_csv('/content/train_unsupervised.txt')"
      ],
      "metadata": {
        "id": "mYf-1JXiWaJH"
      },
      "execution_count": null,
      "outputs": []
    },
    {
      "cell_type": "code",
      "source": [
        "print(train.head())\n",
        "print(\"........\")\n",
        "print(test.head())"
      ],
      "metadata": {
        "colab": {
          "base_uri": "https://localhost:8080/"
        },
        "id": "5hZxd3GMWJQU",
        "outputId": "fe800d40-9251-4377-a2f9-92f4e8f10f53"
      },
      "execution_count": null,
      "outputs": [
        {
          "output_type": "stream",
          "name": "stdout",
          "text": [
            "  although tesla ceo elon musk shocked silicon valley by breaking ranks to become an official member of the white house manufacturing jobs initiative the value of his tesla stock is up by over 2 billion since the election of donald trump as president after a dizzying week of executive orders covering obamacare trade and immigration president trump held an approval rating of 55 percent of likely voters according to the rasmussen reports daily presidential tracking poll that is only slightly below the 59 percent level of president obama when he left office  voters welcomed president trumps decision to scrap the   partnership tpp   deal and agree that the north american free trade agreement nafta with mexico and canada needs to be reworked although supporters argue free trade makes products cheaper for u s consumers americans believe     by a whopping 73 percent to 16 percent margin      it is more important to keep manufacturing jobs in the united states than keep prices low for u s consumers americans strongly believe in buying u s made goods to emphasize which way the nation is moving the white house announced the creation of a   manufacturing jobs initiative to develop the how best to promote job growth and get americans back to work again  participants include a number of fortune 100 ceos the   deputy chief of staff representing labor unions plus elon musk intels brian krzanich and michael dell to represent   breitbart news reported earlier this week that musk suffered huge silicon valley   after he lit up the blogosphere by tweeting that former exxonmobil ceo rex tillerson has the potential to be an excellent sec of state  the lefts social justice warriors lashed out at musk with vicious colorful language that cannot be reported rumors also flew that musk was a   to support trump in exchange for a carbon tax musks showing up on an official white house committee on january 27 generated another twitter storm but the latest comments were more mournful dude what are you doing you are losing credibility by the minute come back to the light   musk replied yeah am hearing this from a lot of people  its getting me down im just trying to make a positive contribution  hope good comes of it  but when it comes to u s employment and manufacturing musks companies are near or at the top as the   players from a base of just 899 tesla employees in 2010 tesla now has roughly 25 000 u s workers   spacex has 4 000 u s employees   gigafactory expects to hire 6 500 american workers when completed and his development stage hyperloop one has 200 employees the trump   musk charm offensive has been a home run for tesla with analysts at morgan stanley and other wall street firms applauding the effort teslas stock price is up by 33 percent since the november 8 elections before donald trump became president musk already had amassed a 13 2 billion net worth the biggest piece of his fortune are the 33 73 million tesla shares and vested options exercisable within 60 days that amount to a 22 5 percent ownership stake in the company since november 8 musks net worth from tesla alone is up by a stunning 2 028 000 000 or over 2 billion rounded off\n",
            "0  donald j trump often cites his undergraduate d...                                                                                                                                                                                                                                                                                                                                                                                                                                                                                                                                                                                                                                                                                                                                                                                                                                                                                                                                                                                                                                                                                                                                                                                                                                                                                                                                                                                                                                                                                                                                                                                                                                                                                                                                                                                                                                                                                                                                                                                                                                                                                                                                                                                                                                                                                                                                                                                                                                                                                                                                                                                                                                                                                                                                                                                                                                                                                                                                                                                                                                                                                                                                                                                                                                               \n",
            "1  border patrol agents from the yuma and el cent...                                                                                                                                                                                                                                                                                                                                                                                                                                                                                                                                                                                                                                                                                                                                                                                                                                                                                                                                                                                                                                                                                                                                                                                                                                                                                                                                                                                                                                                                                                                                                                                                                                                                                                                                                                                                                                                                                                                                                                                                                                                                                                                                                                                                                                                                                                                                                                                                                                                                                                                                                                                                                                                                                                                                                                                                                                                                                                                                                                                                                                                                                                                                                                                                                                               \n",
            "2  so the working people of america are basically...                                                                                                                                                                                                                                                                                                                                                                                                                                                                                                                                                                                                                                                                                                                                                                                                                                                                                                                                                                                                                                                                                                                                                                                                                                                                                                                                                                                                                                                                                                                                                                                                                                                                                                                                                                                                                                                                                                                                                                                                                                                                                                                                                                                                                                                                                                                                                                                                                                                                                                                                                                                                                                                                                                                                                                                                                                                                                                                                                                                                                                                                                                                                                                                                                                               \n",
            "3  the fbi reportedly has found emails from hilla...                                                                                                                                                                                                                                                                                                                                                                                                                                                                                                                                                                                                                                                                                                                                                                                                                                                                                                                                                                                                                                                                                                                                                                                                                                                                                                                                                                                                                                                                                                                                                                                                                                                                                                                                                                                                                                                                                                                                                                                                                                                                                                                                                                                                                                                                                                                                                                                                                                                                                                                                                                                                                                                                                                                                                                                                                                                                                                                                                                                                                                                                                                                                                                                                                                               \n",
            "4  google maps revolutionized how you get from po...                                                                                                                                                                                                                                                                                                                                                                                                                                                                                                                                                                                                                                                                                                                                                                                                                                                                                                                                                                                                                                                                                                                                                                                                                                                                                                                                                                                                                                                                                                                                                                                                                                                                                                                                                                                                                                                                                                                                                                                                                                                                                                                                                                                                                                                                                                                                                                                                                                                                                                                                                                                                                                                                                                                                                                                                                                                                                                                                                                                                                                                                                                                                                                                                                                               \n",
            "........\n",
            "  and now a message of peace and unity from one of our neighbors to the south  we mexicans have to kill donald j trump before he becomes president he is a threat to every single one of us there are many mexican americans living in the us right now and i m asking them to kill donald trump before he becomes president the one in mexico who have the means i m asking you to cross the border and go and kill donald trump and as many of his supporters as possible anywhere he goes just try to bomb the place shoot up the place do something bb but he looked like such a nice boy don t call him  illegal he just wanted a better life he s just a victim this punk isn t the only one threatening the life of trump watch this video that exposes the truth about how the media ignores these threats\n",
            "0  winnipeg manitoba reuters  former us president...                                                                                                                                                                                                                                                                                                                                                                                                                                                                                                                                                                                                                                                                                                                                                              \n",
            "1  the two franciscan friars complete with   robe...                                                                                                                                                                                                                                                                                                                                                                                                                                                                                                                                                                                                                                                                                                                                                              \n",
            "2  approximately 1 in 68 children has an autism s...                                                                                                                                                                                                                                                                                                                                                                                                                                                                                                                                                                                                                                                                                                                                                              \n",
            "3  the cnn debate between democratic candidates h...                                                                                                                                                                                                                                                                                                                                                                                                                                                                                                                                                                                                                                                                                                                                                              \n",
            "4   by dady chery and gilbert mercierall writers ...                                                                                                                                                                                                                                                                                                                                                                                                                                                                                                                                                                                                                                                                                                                                                              \n"
          ]
        }
      ]
    },
    {
      "cell_type": "code",
      "source": [],
      "metadata": {
        "id": "pFh2t2CideK5"
      },
      "execution_count": null,
      "outputs": []
    },
    {
      "cell_type": "code",
      "source": [
        "!pip install fasttext"
      ],
      "metadata": {
        "colab": {
          "base_uri": "https://localhost:8080/"
        },
        "id": "6c9N8u0AeRAf",
        "outputId": "1c08a405-af2d-4cf3-e564-b1fd39c1e14b"
      },
      "execution_count": null,
      "outputs": [
        {
          "output_type": "stream",
          "name": "stdout",
          "text": [
            "Collecting fasttext\n",
            "  Downloading fasttext-0.9.3.tar.gz (73 kB)\n",
            "\u001b[?25l     \u001b[90m━━━━━━━━━━━━━━━━━━━━━━━━━━━━━━━━━━━━━━━━\u001b[0m \u001b[32m0.0/73.4 kB\u001b[0m \u001b[31m?\u001b[0m eta \u001b[36m-:--:--\u001b[0m\r\u001b[2K     \u001b[90m━━━━━━━━━━━━━━━━━━━━━━━━━━━━━━━━━━━━━━━━\u001b[0m \u001b[32m73.4/73.4 kB\u001b[0m \u001b[31m3.1 MB/s\u001b[0m eta \u001b[36m0:00:00\u001b[0m\n",
            "\u001b[?25h  Installing build dependencies ... \u001b[?25l\u001b[?25hdone\n",
            "  Getting requirements to build wheel ... \u001b[?25l\u001b[?25hdone\n",
            "  Preparing metadata (pyproject.toml) ... \u001b[?25l\u001b[?25hdone\n",
            "Collecting pybind11>=2.2 (from fasttext)\n",
            "  Using cached pybind11-2.13.6-py3-none-any.whl.metadata (9.5 kB)\n",
            "Requirement already satisfied: setuptools>=0.7.0 in /usr/local/lib/python3.10/dist-packages (from fasttext) (75.1.0)\n",
            "Requirement already satisfied: numpy in /usr/local/lib/python3.10/dist-packages (from fasttext) (1.26.4)\n",
            "Using cached pybind11-2.13.6-py3-none-any.whl (243 kB)\n",
            "Building wheels for collected packages: fasttext\n",
            "  Building wheel for fasttext (pyproject.toml) ... \u001b[?25l\u001b[?25hdone\n",
            "  Created wheel for fasttext: filename=fasttext-0.9.3-cp310-cp310-linux_x86_64.whl size=4296182 sha256=7fb5285c55adb738883f52fe8ff0648e98c321d0950fd3d0361f0c9f7bd9fd65\n",
            "  Stored in directory: /root/.cache/pip/wheels/0d/a2/00/81db54d3e6a8199b829d58e02cec2ddb20ce3e59fad8d3c92a\n",
            "Successfully built fasttext\n",
            "Installing collected packages: pybind11, fasttext\n",
            "Successfully installed fasttext-0.9.3 pybind11-2.13.6\n"
          ]
        }
      ]
    },
    {
      "cell_type": "code",
      "source": [
        "import fasttext\n",
        "\n",
        "# # Step 2: Train FastText in unsupervised mode on your training data\n",
        "# # You can adjust parameters like dim (embedding size), minCount (minimum word count), and epoch (number of iterations)\n",
        "# unsupervised_model = fasttext.train_unsupervised(input='train_unsupervised.txt', model='cbow', dim=100, epoch=5)\n",
        "\n",
        "# # Save the trained model\n",
        "# unsupervised_model.save_model('unsupervised_fasttext_model.bin')\n",
        "ft_model = fasttext.load_model('unsupervised_fasttext_model.bin')"
      ],
      "metadata": {
        "id": "TMl1qhpWdau8"
      },
      "execution_count": null,
      "outputs": []
    },
    {
      "cell_type": "code",
      "source": [
        "import numpy as np\n",
        "\n",
        "# Step 3: Function to create FastText embeddings for each text\n",
        "def text_to_fasttext_embeddings(text, ft_model):\n",
        "    words = text.split()\n",
        "    embeddings = []\n",
        "\n",
        "    # Get the vector for each word in the text and append it to the list\n",
        "    for word in words:\n",
        "        vector = ft_model.get_word_vector(word)\n",
        "        embeddings.append(vector)\n",
        "\n",
        "    # Return the mean of all word vectors or a zero vector if no valid words are found\n",
        "    if embeddings:\n",
        "        return np.mean(embeddings, axis=0)\n",
        "    else:\n",
        "        return np.zeros(ft_model.get_dimension())\n",
        "\n",
        "# Step 4: Generate embeddings for the training and testing sets\n",
        "train_df['embedding'] = train_df['text'].apply(lambda x: text_to_fasttext_embeddings(x, ft_model))\n",
        "test_df['embedding'] = test_df['text'].apply(lambda x: text_to_fasttext_embeddings(x, ft_model))\n",
        "\n",
        "# Convert the embeddings to a NumPy array\n",
        "X_train_fasttext = np.vstack(train_df['embedding'].values)\n",
        "X_test_fasttext = np.vstack(test_df['embedding'].values)\n",
        "\n",
        "# Save the embeddings for future use\n",
        "np.save('train_unsupervised_fasttext_embeddings.npy', X_train_fasttext)\n",
        "np.save('test_unsupervised_fasttext_embeddings.npy', X_test_fasttext)\n",
        "\n",
        "# Now X_train_fasttext and X_test_fasttext contain the FastText embeddings for each text in your train and test sets\n",
        "\n",
        "# import numpy as np\n",
        "# from tensorflow.keras.preprocessing.text import Tokenizer\n",
        "# from tensorflow.keras.preprocessing.sequence import pad_sequences\n",
        "\n",
        "# # Assuming X_train and X_test are your text data\n",
        "# texts = train + test  # Combine all text data for fitting tokenizer\n",
        "\n",
        "# # Tokenize the text data\n",
        "# tokenizer = Tokenizer(num_words=20000)  # Adjust vocab size if needed\n",
        "# tokenizer.fit_on_texts(texts)\n",
        "# word_index = tokenizer.word_index\n",
        "\n",
        "# # Load the trained FastText model\n",
        "# ft_model = fasttext.load_model(\"unsupervised_fasttext_model.bin\")\n",
        "\n",
        "# # Prepare the embedding matrix\n",
        "# embedding_dim = 300  # FastText uses 300-dimensional vectors\n",
        "# vocab_size = min(20000, len(word_index)) + 1  # Limit to the top 20,000 words\n",
        "\n",
        "# embedding_matrix = np.zeros((vocab_size, embedding_dim))\n",
        "# for word, i in word_index.items():\n",
        "#     if i < vocab_size:\n",
        "#         embedding_vector = ft_model.get_word_vector(word)\n",
        "#         if embedding_vector is not None:\n",
        "#             embedding_matrix[i] = embedding_vector\n",
        "\n",
        "# # Tokenize and pad the sequences\n",
        "# X_train_seq = tokenizer.texts_to_sequences(X_train)\n",
        "# X_test_seq = tokenizer.texts_to_sequences(X_test)\n",
        "\n",
        "# max_len = 100  # Adjust the maximum sequence length based on your dataset\n",
        "# X_train_pad = pad_sequences(X_train_seq, maxlen=max_len, padding='post')\n",
        "# X_test_pad = pad_sequences(X_test_seq, maxlen=max_len, padding='post')\n",
        "\n",
        "# # One-hot encode the labels (for binary or multi-class classification)\n",
        "# y_train_encoded = tf.keras.utils.to_categorical(y_train, num_classes=2)  # Adjust for number of classes\n",
        "# y_test_encoded = tf.keras.utils.to_categorical(y_test, num_classes=2)\n",
        "\n"
      ],
      "metadata": {
        "id": "ppvwYL4mg73N"
      },
      "execution_count": null,
      "outputs": []
    },
    {
      "cell_type": "code",
      "source": [
        "print(X_train_fasttext)\n",
        "print(X_test_fasttext)"
      ],
      "metadata": {
        "colab": {
          "base_uri": "https://localhost:8080/"
        },
        "id": "-exLrgh80RIa",
        "outputId": "e85fc633-7cf7-4c91-d88c-eddad4651847"
      },
      "execution_count": null,
      "outputs": [
        {
          "output_type": "stream",
          "name": "stdout",
          "text": [
            "[[ 0.17554973 -0.52096575 -0.1078163  ...  0.66298997  0.63904387\n",
            "   0.68554854]\n",
            " [ 0.49323449 -0.23665561 -0.20039538 ...  0.96383893  1.01492238\n",
            "   1.12369072]\n",
            " [ 0.48764396 -0.75924635 -0.50108862 ...  0.95653796  0.87599832\n",
            "   1.00468469]\n",
            " ...\n",
            " [ 0.59844947 -0.54552424 -0.06093487 ...  0.94911599  0.90300143\n",
            "   0.98139298]\n",
            " [ 0.29258704 -0.19258811 -0.3146027  ...  1.01749802  0.97033\n",
            "   1.10091448]\n",
            " [-0.7436946   0.25242326 -0.30307302 ...  1.25737131  1.09988725\n",
            "   0.57284421]]\n",
            "[[ 0.          0.          0.         ...  0.          0.\n",
            "   0.        ]\n",
            " [-0.18685398  0.48486984 -0.71876478 ...  1.10150957  1.14427578\n",
            "   0.80322075]\n",
            " [ 0.66016179 -0.6914624  -0.55320317 ...  0.8531999   0.68031335\n",
            "   1.25694096]\n",
            " ...\n",
            " [ 0.03560773 -0.21688031 -0.12615536 ...  0.89539504  1.18233085\n",
            "   0.79932648]\n",
            " [ 0.69188648 -0.33090904 -0.54671174 ...  0.76415724  1.00336146\n",
            "   1.20778692]\n",
            " [-0.20051064 -0.22768554 -0.21633528 ...  0.8451665   0.72988969\n",
            "   0.65683216]]\n"
          ]
        }
      ]
    },
    {
      "cell_type": "code",
      "source": [
        "from tensorflow.keras.utils import to_categorical\n",
        "\n",
        "# Reshape the FastText embeddings for CNN-LSTM model (samples, timesteps, features)\n",
        "X_train_reshaped = X_train_fasttext.reshape((X_train_fasttext.shape[0], X_train_fasttext.shape[1], 1))\n",
        "X_test_reshaped = X_test_fasttext.reshape((X_test_fasttext.shape[0], X_test_fasttext.shape[1], 1))\n",
        "\n",
        "# Assuming binary classification (for multi-class adjust num_classes)\n",
        "y_train_encoded = to_categorical(train_df['label'], num_classes=2)\n",
        "y_test_encoded = to_categorical(test_df['label'], num_classes=2)\n"
      ],
      "metadata": {
        "id": "iOtKONtmsCnL"
      },
      "execution_count": null,
      "outputs": []
    },
    {
      "cell_type": "code",
      "source": [
        "from sklearn.model_selection import train_test_split\n",
        "\n",
        "# Split into train, validation, and test sets\n",
        "X_train, X_temp, y_train, y_temp = train_test_split(X_train_reshaped, y_train_encoded, test_size=0.4, random_state=42)\n",
        "X_val, X_test, y_val, y_test = train_test_split(X_temp, y_temp, test_size=0.5, random_state=42)\n",
        "\n",
        "print(f\"Training set: {X_train.shape}, Validation set: {X_val.shape}, Test set: {X_test.shape}\")"
      ],
      "metadata": {
        "colab": {
          "base_uri": "https://localhost:8080/"
        },
        "id": "IxOFhlWCwiqH",
        "outputId": "7043412f-8257-4e0e-ff0e-1f0de92c0e0c"
      },
      "execution_count": null,
      "outputs": [
        {
          "output_type": "stream",
          "name": "stdout",
          "text": [
            "Training set: (34624, 100, 1), Validation set: (11541, 100, 1), Test set: (11542, 100, 1)\n"
          ]
        }
      ]
    },
    {
      "cell_type": "code",
      "source": [
        "print(X_val)\n",
        "print(X_test)\n",
        "print(y_val)\n",
        "print(y_test)\n",
        "print(X_train_reshaped)\n",
        "print(X_test_reshaped)\n",
        "print(y_train_encoded)\n",
        "print(y_test_encoded)"
      ],
      "metadata": {
        "colab": {
          "base_uri": "https://localhost:8080/"
        },
        "id": "pisky6uO04ta",
        "outputId": "249dd54e-47dd-4ba3-bebb-49c61af15729"
      },
      "execution_count": null,
      "outputs": [
        {
          "output_type": "stream",
          "name": "stdout",
          "text": [
            "[[[ 0.69210875]\n",
            "  [-0.41255772]\n",
            "  [-0.66549504]\n",
            "  ...\n",
            "  [ 0.7820015 ]\n",
            "  [ 0.89356333]\n",
            "  [ 1.11530769]]\n",
            "\n",
            " [[ 0.47416061]\n",
            "  [-0.09963874]\n",
            "  [-0.73387194]\n",
            "  ...\n",
            "  [ 1.00302446]\n",
            "  [ 1.22160602]\n",
            "  [ 1.17819858]]\n",
            "\n",
            " [[ 0.84921771]\n",
            "  [-0.99159318]\n",
            "  [-0.86159539]\n",
            "  ...\n",
            "  [ 0.44077453]\n",
            "  [ 1.01122582]\n",
            "  [ 1.12898207]]\n",
            "\n",
            " ...\n",
            "\n",
            " [[ 0.02455475]\n",
            "  [ 0.16317454]\n",
            "  [-1.08726537]\n",
            "  ...\n",
            "  [ 1.02425468]\n",
            "  [ 1.92793584]\n",
            "  [ 1.246346  ]]\n",
            "\n",
            " [[ 0.65895236]\n",
            "  [-0.57666206]\n",
            "  [-0.72628003]\n",
            "  ...\n",
            "  [ 0.89807743]\n",
            "  [ 1.14758062]\n",
            "  [ 1.21872783]]\n",
            "\n",
            " [[ 0.07549055]\n",
            "  [ 0.27253267]\n",
            "  [-0.16433154]\n",
            "  ...\n",
            "  [ 1.36499274]\n",
            "  [ 0.93156898]\n",
            "  [ 1.18605101]]]\n",
            "[[[-0.60276049]\n",
            "  [ 0.53101104]\n",
            "  [-0.01236581]\n",
            "  ...\n",
            "  [ 0.81259811]\n",
            "  [ 0.78422081]\n",
            "  [ 0.64419621]]\n",
            "\n",
            " [[ 0.44593367]\n",
            "  [-0.29877302]\n",
            "  [-0.51471835]\n",
            "  ...\n",
            "  [ 0.91234148]\n",
            "  [ 1.4317292 ]\n",
            "  [ 1.05805528]]\n",
            "\n",
            " [[ 0.24087217]\n",
            "  [-0.44621244]\n",
            "  [-0.40400544]\n",
            "  ...\n",
            "  [ 0.94924182]\n",
            "  [ 0.91439569]\n",
            "  [ 0.93736988]]\n",
            "\n",
            " ...\n",
            "\n",
            " [[ 0.31539631]\n",
            "  [-0.48651507]\n",
            "  [-0.01846319]\n",
            "  ...\n",
            "  [ 1.02841341]\n",
            "  [ 0.86046445]\n",
            "  [ 0.98892915]]\n",
            "\n",
            " [[ 0.60721999]\n",
            "  [-0.32277933]\n",
            "  [-0.93401897]\n",
            "  ...\n",
            "  [ 0.099448  ]\n",
            "  [ 0.73481166]\n",
            "  [ 1.07143688]]\n",
            "\n",
            " [[ 0.23158154]\n",
            "  [-0.18950331]\n",
            "  [-0.33616945]\n",
            "  ...\n",
            "  [ 1.12031329]\n",
            "  [ 0.91491157]\n",
            "  [ 1.05076146]]]\n",
            "[[1. 0.]\n",
            " [0. 1.]\n",
            " [1. 0.]\n",
            " ...\n",
            " [0. 1.]\n",
            " [1. 0.]\n",
            " [1. 0.]]\n",
            "[[0. 1.]\n",
            " [0. 1.]\n",
            " [0. 1.]\n",
            " ...\n",
            " [1. 0.]\n",
            " [0. 1.]\n",
            " [0. 1.]]\n",
            "[[[ 0.17554973]\n",
            "  [-0.52096575]\n",
            "  [-0.1078163 ]\n",
            "  ...\n",
            "  [ 0.66298997]\n",
            "  [ 0.63904387]\n",
            "  [ 0.68554854]]\n",
            "\n",
            " [[ 0.49323449]\n",
            "  [-0.23665561]\n",
            "  [-0.20039538]\n",
            "  ...\n",
            "  [ 0.96383893]\n",
            "  [ 1.01492238]\n",
            "  [ 1.12369072]]\n",
            "\n",
            " [[ 0.48764396]\n",
            "  [-0.75924635]\n",
            "  [-0.50108862]\n",
            "  ...\n",
            "  [ 0.95653796]\n",
            "  [ 0.87599832]\n",
            "  [ 1.00468469]]\n",
            "\n",
            " ...\n",
            "\n",
            " [[ 0.59844947]\n",
            "  [-0.54552424]\n",
            "  [-0.06093487]\n",
            "  ...\n",
            "  [ 0.94911599]\n",
            "  [ 0.90300143]\n",
            "  [ 0.98139298]]\n",
            "\n",
            " [[ 0.29258704]\n",
            "  [-0.19258811]\n",
            "  [-0.3146027 ]\n",
            "  ...\n",
            "  [ 1.01749802]\n",
            "  [ 0.97033   ]\n",
            "  [ 1.10091448]]\n",
            "\n",
            " [[-0.7436946 ]\n",
            "  [ 0.25242326]\n",
            "  [-0.30307302]\n",
            "  ...\n",
            "  [ 1.25737131]\n",
            "  [ 1.09988725]\n",
            "  [ 0.57284421]]]\n",
            "[[[ 0.        ]\n",
            "  [ 0.        ]\n",
            "  [ 0.        ]\n",
            "  ...\n",
            "  [ 0.        ]\n",
            "  [ 0.        ]\n",
            "  [ 0.        ]]\n",
            "\n",
            " [[-0.18685398]\n",
            "  [ 0.48486984]\n",
            "  [-0.71876478]\n",
            "  ...\n",
            "  [ 1.10150957]\n",
            "  [ 1.14427578]\n",
            "  [ 0.80322075]]\n",
            "\n",
            " [[ 0.66016179]\n",
            "  [-0.6914624 ]\n",
            "  [-0.55320317]\n",
            "  ...\n",
            "  [ 0.8531999 ]\n",
            "  [ 0.68031335]\n",
            "  [ 1.25694096]]\n",
            "\n",
            " ...\n",
            "\n",
            " [[ 0.03560773]\n",
            "  [-0.21688031]\n",
            "  [-0.12615536]\n",
            "  ...\n",
            "  [ 0.89539504]\n",
            "  [ 1.18233085]\n",
            "  [ 0.79932648]]\n",
            "\n",
            " [[ 0.69188648]\n",
            "  [-0.33090904]\n",
            "  [-0.54671174]\n",
            "  ...\n",
            "  [ 0.76415724]\n",
            "  [ 1.00336146]\n",
            "  [ 1.20778692]]\n",
            "\n",
            " [[-0.20051064]\n",
            "  [-0.22768554]\n",
            "  [-0.21633528]\n",
            "  ...\n",
            "  [ 0.8451665 ]\n",
            "  [ 0.72988969]\n",
            "  [ 0.65683216]]]\n",
            "[[1. 0.]\n",
            " [1. 0.]\n",
            " [1. 0.]\n",
            " ...\n",
            " [1. 0.]\n",
            " [1. 0.]\n",
            " [0. 1.]]\n",
            "[[0. 1.]\n",
            " [0. 1.]\n",
            " [1. 0.]\n",
            " ...\n",
            " [0. 1.]\n",
            " [0. 1.]\n",
            " [0. 1.]]\n"
          ]
        }
      ]
    },
    {
      "cell_type": "code",
      "source": [
        "import numpy as np\n",
        "from tensorflow.keras.models import Model\n",
        "from tensorflow.keras.layers import Input, Conv1D, MaxPooling1D, LSTM, Dense, Dropout\n",
        "from tensorflow.keras.layers import Bidirectional\n",
        "from tensorflow.keras.optimizers import Adam\n",
        "from tensorflow.keras.regularizers import l1, l2\n",
        "from tensorflow.keras.callbacks import EarlyStopping, ReduceLROnPlateau\n",
        "from tensorflow.keras.utils import to_categorical\n"
      ],
      "metadata": {
        "id": "si8ZLhzHzoNF"
      },
      "execution_count": null,
      "outputs": []
    },
    {
      "cell_type": "code",
      "source": [
        "# Reshape FastText embeddings for CNN-LSTM model (samples, timesteps, features)\n",
        "X_train_reshaped = X_train_fasttext.reshape((X_train_fasttext.shape[0], X_train_fasttext.shape[1], 1))\n",
        "X_test_reshaped = X_test_fasttext.reshape((X_test_fasttext.shape[0], X_test_fasttext.shape[1], 1))\n",
        "\n",
        "# One-hot encode labels (assuming binary classification)\n",
        "y_train_encoded = to_categorical(train_df['label'], num_classes=2)\n",
        "y_test_encoded = to_categorical(test_df['label'], num_classes=2)\n"
      ],
      "metadata": {
        "id": "OrlvbKOIzrou"
      },
      "execution_count": null,
      "outputs": []
    },
    {
      "cell_type": "code",
      "source": [
        "def create_cnn_lstm_model(input_shape, num_classes, l1_lambda=0.01, l2_lambda=0.01):\n",
        "    inputs = Input(shape=input_shape)\n",
        "\n",
        "    # CNN part\n",
        "    x = Conv1D(filters=64, kernel_size=4, activation='relu', kernel_regularizer=l2(l2_lambda))(inputs)\n",
        "    x = MaxPooling1D(pool_size=2)(x)\n",
        "\n",
        "    # LSTM part\n",
        "    x = LSTM(50, return_sequences=True, kernel_regularizer=l2(l2_lambda))(x)\n",
        "    x = Dropout(0.3)(x)\n",
        "    x = LSTM(30, kernel_regularizer=l1(l1_lambda))(x)\n",
        "\n",
        "    # Output\n",
        "    outputs = Dense(num_classes, activation='softmax')(x)\n",
        "\n",
        "    model = Model(inputs=inputs, outputs=outputs)\n",
        "    model.compile(optimizer=Adam(learning_rate=0.001), loss='categorical_crossentropy', metrics=['accuracy'])\n",
        "\n",
        "    return model\n"
      ],
      "metadata": {
        "id": "q55lwfa-zraV"
      },
      "execution_count": null,
      "outputs": []
    },
    {
      "cell_type": "code",
      "source": [
        "# Define input shape and number of classes\n",
        "input_shape = (X_train_reshaped.shape[1], 1)  # (timesteps, features)\n",
        "num_classes = 2  # Adjust if more classes\n",
        "\n",
        "# Create the model\n",
        "cnn_lstm_model = create_cnn_lstm_model(input_shape, num_classes, l1_lambda=0.01, l2_lambda=0.01)\n",
        "\n",
        "# Define callbacks\n",
        "early_stopping = EarlyStopping(monitor='val_loss', patience=5, restore_best_weights=True)\n",
        "lr_scheduler = ReduceLROnPlateau(monitor='val_loss', factor=0.5, patience=3, min_lr=1e-6)\n",
        "\n",
        "# Train the model\n",
        "history = cnn_lstm_model.fit(\n",
        "    X_train_reshaped,\n",
        "    y_train_encoded,\n",
        "    epochs=20,\n",
        "    batch_size=32,\n",
        "    validation_data=(X_test_reshaped, y_test_encoded),\n",
        "    callbacks=[early_stopping, lr_scheduler]\n",
        ")\n"
      ],
      "metadata": {
        "colab": {
          "base_uri": "https://localhost:8080/"
        },
        "id": "4qgjFgDkzvzL",
        "outputId": "2c8993ed-b8db-4f20-ecaa-b118abfc5e0d"
      },
      "execution_count": null,
      "outputs": [
        {
          "output_type": "stream",
          "name": "stdout",
          "text": [
            "Epoch 1/20\n",
            "\u001b[1m1804/1804\u001b[0m \u001b[32m━━━━━━━━━━━━━━━━━━━━\u001b[0m\u001b[37m\u001b[0m \u001b[1m131s\u001b[0m 70ms/step - accuracy: 0.7379 - loss: 1.4688 - val_accuracy: 0.8379 - val_loss: 0.4272 - learning_rate: 0.0010\n",
            "Epoch 2/20\n",
            "\u001b[1m1804/1804\u001b[0m \u001b[32m━━━━━━━━━━━━━━━━━━━━\u001b[0m\u001b[37m\u001b[0m \u001b[1m127s\u001b[0m 62ms/step - accuracy: 0.8427 - loss: 0.4019 - val_accuracy: 0.8674 - val_loss: 0.3552 - learning_rate: 0.0010\n",
            "Epoch 3/20\n",
            "\u001b[1m1804/1804\u001b[0m \u001b[32m━━━━━━━━━━━━━━━━━━━━\u001b[0m\u001b[37m\u001b[0m \u001b[1m150s\u001b[0m 66ms/step - accuracy: 0.8641 - loss: 0.3601 - val_accuracy: 0.8724 - val_loss: 0.3435 - learning_rate: 0.0010\n",
            "Epoch 4/20\n",
            "\u001b[1m1804/1804\u001b[0m \u001b[32m━━━━━━━━━━━━━━━━━━━━\u001b[0m\u001b[37m\u001b[0m \u001b[1m137s\u001b[0m 64ms/step - accuracy: 0.8595 - loss: 0.3676 - val_accuracy: 0.8705 - val_loss: 0.3474 - learning_rate: 0.0010\n",
            "Epoch 5/20\n",
            "\u001b[1m1804/1804\u001b[0m \u001b[32m━━━━━━━━━━━━━━━━━━━━\u001b[0m\u001b[37m\u001b[0m \u001b[1m146s\u001b[0m 66ms/step - accuracy: 0.8662 - loss: 0.3520 - val_accuracy: 0.8434 - val_loss: 0.3894 - learning_rate: 0.0010\n",
            "Epoch 6/20\n",
            "\u001b[1m1804/1804\u001b[0m \u001b[32m━━━━━━━━━━━━━━━━━━━━\u001b[0m\u001b[37m\u001b[0m \u001b[1m141s\u001b[0m 65ms/step - accuracy: 0.8689 - loss: 0.3476 - val_accuracy: 0.8759 - val_loss: 0.3322 - learning_rate: 0.0010\n",
            "Epoch 7/20\n",
            "\u001b[1m1804/1804\u001b[0m \u001b[32m━━━━━━━━━━━━━━━━━━━━\u001b[0m\u001b[37m\u001b[0m \u001b[1m143s\u001b[0m 66ms/step - accuracy: 0.8716 - loss: 0.3419 - val_accuracy: 0.8610 - val_loss: 0.3581 - learning_rate: 0.0010\n",
            "Epoch 8/20\n",
            "\u001b[1m1804/1804\u001b[0m \u001b[32m━━━━━━━━━━━━━━━━━━━━\u001b[0m\u001b[37m\u001b[0m \u001b[1m138s\u001b[0m 64ms/step - accuracy: 0.8717 - loss: 0.3399 - val_accuracy: 0.8809 - val_loss: 0.3264 - learning_rate: 0.0010\n",
            "Epoch 9/20\n",
            "\u001b[1m1804/1804\u001b[0m \u001b[32m━━━━━━━━━━━━━━━━━━━━\u001b[0m\u001b[37m\u001b[0m \u001b[1m141s\u001b[0m 63ms/step - accuracy: 0.8703 - loss: 0.3379 - val_accuracy: 0.8761 - val_loss: 0.3238 - learning_rate: 0.0010\n",
            "Epoch 10/20\n",
            "\u001b[1m1804/1804\u001b[0m \u001b[32m━━━━━━━━━━━━━━━━━━━━\u001b[0m\u001b[37m\u001b[0m \u001b[1m119s\u001b[0m 66ms/step - accuracy: 0.8747 - loss: 0.3319 - val_accuracy: 0.8740 - val_loss: 0.3411 - learning_rate: 0.0010\n",
            "Epoch 11/20\n",
            "\u001b[1m1804/1804\u001b[0m \u001b[32m━━━━━━━━━━━━━━━━━━━━\u001b[0m\u001b[37m\u001b[0m \u001b[1m133s\u001b[0m 61ms/step - accuracy: 0.8726 - loss: 0.3341 - val_accuracy: 0.8783 - val_loss: 0.3239 - learning_rate: 0.0010\n",
            "Epoch 12/20\n",
            "\u001b[1m1804/1804\u001b[0m \u001b[32m━━━━━━━━━━━━━━━━━━━━\u001b[0m\u001b[37m\u001b[0m \u001b[1m151s\u001b[0m 66ms/step - accuracy: 0.8766 - loss: 0.3240 - val_accuracy: 0.8766 - val_loss: 0.3268 - learning_rate: 0.0010\n",
            "Epoch 13/20\n",
            "\u001b[1m1804/1804\u001b[0m \u001b[32m━━━━━━━━━━━━━━━━━━━━\u001b[0m\u001b[37m\u001b[0m \u001b[1m136s\u001b[0m 63ms/step - accuracy: 0.8798 - loss: 0.3114 - val_accuracy: 0.8867 - val_loss: 0.3017 - learning_rate: 5.0000e-04\n",
            "Epoch 14/20\n",
            "\u001b[1m1804/1804\u001b[0m \u001b[32m━━━━━━━━━━━━━━━━━━━━\u001b[0m\u001b[37m\u001b[0m \u001b[1m144s\u001b[0m 64ms/step - accuracy: 0.8796 - loss: 0.3108 - val_accuracy: 0.8857 - val_loss: 0.3024 - learning_rate: 5.0000e-04\n",
            "Epoch 15/20\n",
            "\u001b[1m1804/1804\u001b[0m \u001b[32m━━━━━━━━━━━━━━━━━━━━\u001b[0m\u001b[37m\u001b[0m \u001b[1m141s\u001b[0m 64ms/step - accuracy: 0.8836 - loss: 0.3038 - val_accuracy: 0.8862 - val_loss: 0.3029 - learning_rate: 5.0000e-04\n",
            "Epoch 16/20\n",
            "\u001b[1m1804/1804\u001b[0m \u001b[32m━━━━━━━━━━━━━━━━━━━━\u001b[0m\u001b[37m\u001b[0m \u001b[1m145s\u001b[0m 66ms/step - accuracy: 0.8801 - loss: 0.3072 - val_accuracy: 0.8806 - val_loss: 0.3086 - learning_rate: 5.0000e-04\n",
            "Epoch 17/20\n",
            "\u001b[1m1804/1804\u001b[0m \u001b[32m━━━━━━━━━━━━━━━━━━━━\u001b[0m\u001b[37m\u001b[0m \u001b[1m139s\u001b[0m 64ms/step - accuracy: 0.8862 - loss: 0.2982 - val_accuracy: 0.8827 - val_loss: 0.3015 - learning_rate: 2.5000e-04\n",
            "Epoch 18/20\n",
            "\u001b[1m1804/1804\u001b[0m \u001b[32m━━━━━━━━━━━━━━━━━━━━\u001b[0m\u001b[37m\u001b[0m \u001b[1m111s\u001b[0m 61ms/step - accuracy: 0.8877 - loss: 0.2919 - val_accuracy: 0.8894 - val_loss: 0.2875 - learning_rate: 2.5000e-04\n",
            "Epoch 19/20\n",
            "\u001b[1m1804/1804\u001b[0m \u001b[32m━━━━━━━━━━━━━━━━━━━━\u001b[0m\u001b[37m\u001b[0m \u001b[1m147s\u001b[0m 64ms/step - accuracy: 0.8857 - loss: 0.2940 - val_accuracy: 0.8871 - val_loss: 0.2938 - learning_rate: 2.5000e-04\n",
            "Epoch 20/20\n",
            "\u001b[1m1804/1804\u001b[0m \u001b[32m━━━━━━━━━━━━━━━━━━━━\u001b[0m\u001b[37m\u001b[0m \u001b[1m137s\u001b[0m 62ms/step - accuracy: 0.8890 - loss: 0.2892 - val_accuracy: 0.8885 - val_loss: 0.2885 - learning_rate: 2.5000e-04\n"
          ]
        }
      ]
    },
    {
      "cell_type": "code",
      "source": [
        "# Evaluate the model on the test set\n",
        "test_loss, test_accuracy = cnn_lstm_model.evaluate(X_test_reshaped, y_test_encoded)\n",
        "print(f'Test Loss: {test_loss}, Test Accuracy: {test_accuracy}')\n"
      ],
      "metadata": {
        "colab": {
          "base_uri": "https://localhost:8080/"
        },
        "id": "bkalQGU1zwYY",
        "outputId": "4fa877d4-7bda-45dc-b433-76739647d240"
      },
      "execution_count": null,
      "outputs": [
        {
          "output_type": "stream",
          "name": "stdout",
          "text": [
            "\u001b[1m451/451\u001b[0m \u001b[32m━━━━━━━━━━━━━━━━━━━━\u001b[0m\u001b[37m\u001b[0m \u001b[1m7s\u001b[0m 15ms/step - accuracy: 0.8891 - loss: 0.2891\n",
            "Test Loss: 0.28749188780784607, Test Accuracy: 0.8893740773200989\n"
          ]
        }
      ]
    },
    {
      "cell_type": "code",
      "source": [
        "import matplotlib.pyplot as plt\n",
        "\n",
        "# Plot training & validation accuracy\n",
        "plt.plot(history.history['accuracy'])\n",
        "plt.plot(history.history['val_accuracy'])\n",
        "plt.title('Model Accuracy')\n",
        "plt.ylabel('Accuracy')\n",
        "plt.xlabel('Epoch')\n",
        "plt.legend(['Train', 'Validation'], loc='upper left')\n",
        "plt.show()\n",
        "\n",
        "# Plot training & validation loss\n",
        "plt.plot(history.history['loss'])\n",
        "plt.plot(history.history['val_loss'])\n",
        "plt.title('Model Loss')\n",
        "plt.ylabel('Loss')\n",
        "plt.xlabel('Epoch')\n",
        "plt.legend(['Train', 'Validation'], loc='upper left')\n",
        "plt.show()\n"
      ],
      "metadata": {
        "colab": {
          "base_uri": "https://localhost:8080/",
          "height": 927
        },
        "id": "7zjYuJLaz5nM",
        "outputId": "eb3d3df5-5f23-4caa-e6ff-e60cc6b7f4bf"
      },
      "execution_count": null,
      "outputs": [
        {
          "output_type": "display_data",
          "data": {
            "text/plain": [
              "<Figure size 640x480 with 1 Axes>"
            ],
            "image/png": "[encoded data removed]"
          },
          "metadata": {}
        },
        {
          "output_type": "display_data",
          "data": {
            "text/plain": [
              "<Figure size 640x480 with 1 Axes>"
            ],
            "image/png": "[encoded data removed]"
          },
          "metadata": {}
        }
      ]
    },
    {
      "cell_type": "code",
      "source": [
        "import matplotlib.pyplot as plt\n",
        "\n",
        "# Assuming 'history' is the output of the model.fit() function\n",
        "# For example: history = model.fit(X_train_reshaped, y_train_encoded, validation_data=(X_test_reshaped, y_test_encoded), epochs=10, batch_size=32)\n",
        "\n",
        "# Plotting the loss curves\n",
        "plt.figure(figsize=(12, 6))\n",
        "plt.plot(history.history['loss'], label='Training Loss', color='blue')\n",
        "plt.plot(history.history['val_loss'], label='Validation Loss', color='orange')\n",
        "plt.title('CNN-LSTM Model Training and Validation Loss')\n",
        "plt.xlabel('Epochs')\n",
        "plt.ylabel('Loss')\n",
        "plt.legend()\n",
        "plt.grid()\n",
        "plt.show()\n"
      ],
      "metadata": {
        "colab": {
          "base_uri": "https://localhost:8080/",
          "height": 564
        },
        "id": "DRMGlu6P5gf5",
        "outputId": "35d2e878-d0cf-4a86-b510-65dda50d76eb"
      },
      "execution_count": null,
      "outputs": [
        {
          "output_type": "display_data",
          "data": {
            "text/plain": [
              "<Figure size 1200x600 with 1 Axes>"
            ],
            "image/png": "[encoded data removed]"
          },
          "metadata": {}
        }
      ]
    },
    {
      "cell_type": "code",
      "source": [
        "import matplotlib.pyplot as plt\n",
        "\n",
        "# Assuming 'history' is the output of the model.fit() function\n",
        "# For example: history = model.fit(X_train_reshaped, y_train_encoded, validation_data=(X_test_reshaped, y_test_encoded), epochs=10, batch_size=32)\n",
        "\n",
        "# Plotting the accuracy curves\n",
        "plt.figure(figsize=(12, 6))\n",
        "plt.plot(history.history['accuracy'], label='Training Accuracy', color='blue')\n",
        "plt.plot(history.history['val_accuracy'], label='Validation Accuracy', color='orange')\n",
        "plt.title('CNN-LSTM Model Training and Validation Accuracy')\n",
        "plt.xlabel('Epochs')\n",
        "plt.ylabel('Accuracy')\n",
        "plt.legend()\n",
        "plt.grid()\n",
        "plt.show()\n"
      ],
      "metadata": {
        "colab": {
          "base_uri": "https://localhost:8080/",
          "height": 564
        },
        "id": "nixhB3dP5gRi",
        "outputId": "d0c0cf89-38f6-4dbb-d134-6dd8868ffaf4"
      },
      "execution_count": null,
      "outputs": [
        {
          "output_type": "display_data",
          "data": {
            "text/plain": [
              "<Figure size 1200x600 with 1 Axes>"
            ],
            "image/png": "[encoded data removed]"
          },
          "metadata": {}
        }
      ]
    },
    {
      "cell_type": "code",
      "source": [
        "import numpy as np\n",
        "import matplotlib.pyplot as plt\n",
        "import seaborn as sns\n",
        "from sklearn.metrics import confusion_matrix, classification_report\n",
        "\n",
        "# Step 5: Make predictions on the test set\n",
        "y_pred_probs = cnn_lstm_model.predict(X_test_reshaped)\n",
        "y_pred = np.argmax(y_pred_probs, axis=1)  # Get class labels from probabilities\n",
        "y_true = np.argmax(y_test_encoded, axis=1)  # True labels\n",
        "\n",
        "# Step 6: Generate the confusion matrix\n",
        "cm = confusion_matrix(y_true, y_pred)\n",
        "\n",
        "# Step 7: Plot the confusion matrix\n",
        "plt.figure(figsize=(10, 7))\n",
        "sns.heatmap(cm, annot=True, fmt='d', cmap='Blues', xticklabels=['Class 0', 'Class 1'], yticklabels=['Class 0', 'Class 1'])\n",
        "plt.title('Confusion Matrix')\n",
        "plt.xlabel('Predicted Labels')\n",
        "plt.ylabel('True Labels')\n",
        "plt.show()\n",
        "\n",
        "# Step 8: Print classification report\n",
        "print(classification_report(y_true, y_pred, target_names=['Class 0', 'Class 1']))\n"
      ],
      "metadata": {
        "colab": {
          "base_uri": "https://localhost:8080/",
          "height": 824
        },
        "id": "L_LvnD-j5gG-",
        "outputId": "789e101a-432f-47db-ce44-197daf8cdc99"
      },
      "execution_count": null,
      "outputs": [
        {
          "output_type": "stream",
          "name": "stdout",
          "text": [
            "\u001b[1m451/451\u001b[0m \u001b[32m━━━━━━━━━━━━━━━━━━━━\u001b[0m\u001b[37m\u001b[0m \u001b[1m10s\u001b[0m 20ms/step\n"
          ]
        },
        {
          "output_type": "display_data",
          "data": {
            "text/plain": [
              "<Figure size 1000x700 with 2 Axes>"
            ],
            "image/png": "[encoded data removed]"
          },
          "metadata": {}
        },
        {
          "output_type": "stream",
          "name": "stdout",
          "text": [
            "              precision    recall  f1-score   support\n",
            "\n",
            "     Class 0       0.90      0.88      0.89      7089\n",
            "     Class 1       0.88      0.90      0.89      7338\n",
            "\n",
            "    accuracy                           0.89     14427\n",
            "   macro avg       0.89      0.89      0.89     14427\n",
            "weighted avg       0.89      0.89      0.89     14427\n",
            "\n"
          ]
        }
      ]
    },
    {
      "cell_type": "code",
      "source": [
        "!pip install catboost"
      ],
      "metadata": {
        "colab": {
          "base_uri": "https://localhost:8080/"
        },
        "id": "fonHxZHZk1Gk",
        "outputId": "723266c3-ed45-408b-b8ca-d62651d94d52"
      },
      "execution_count": null,
      "outputs": [
        {
          "output_type": "stream",
          "name": "stdout",
          "text": [
            "Collecting catboost\n",
            "  Downloading catboost-1.2.7-cp310-cp310-manylinux2014_x86_64.whl.metadata (1.2 kB)\n",
            "Requirement already satisfied: graphviz in /usr/local/lib/python3.10/dist-packages (from catboost) (0.20.3)\n",
            "Requirement already satisfied: matplotlib in /usr/local/lib/python3.10/dist-packages (from catboost) (3.7.1)\n",
            "Requirement already satisfied: numpy<2.0,>=1.16.0 in /usr/local/lib/python3.10/dist-packages (from catboost) (1.26.4)\n",
            "Requirement already satisfied: pandas>=0.24 in /usr/local/lib/python3.10/dist-packages (from catboost) (2.2.2)\n",
            "Requirement already satisfied: scipy in /usr/local/lib/python3.10/dist-packages (from catboost) (1.13.1)\n",
            "Requirement already satisfied: plotly in /usr/local/lib/python3.10/dist-packages (from catboost) (5.24.1)\n",
            "Requirement already satisfied: six in /usr/local/lib/python3.10/dist-packages (from catboost) (1.16.0)\n",
            "Requirement already satisfied: python-dateutil>=2.8.2 in /usr/local/lib/python3.10/dist-packages (from pandas>=0.24->catboost) (2.8.2)\n",
            "Requirement already satisfied: pytz>=2020.1 in /usr/local/lib/python3.10/dist-packages (from pandas>=0.24->catboost) (2024.2)\n",
            "Requirement already satisfied: tzdata>=2022.7 in /usr/local/lib/python3.10/dist-packages (from pandas>=0.24->catboost) (2024.2)\n",
            "Requirement already satisfied: contourpy>=1.0.1 in /usr/local/lib/python3.10/dist-packages (from matplotlib->catboost) (1.3.0)\n",
            "Requirement already satisfied: cycler>=0.10 in /usr/local/lib/python3.10/dist-packages (from matplotlib->catboost) (0.12.1)\n",
            "Requirement already satisfied: fonttools>=4.22.0 in /usr/local/lib/python3.10/dist-packages (from matplotlib->catboost) (4.54.1)\n",
            "Requirement already satisfied: kiwisolver>=1.0.1 in /usr/local/lib/python3.10/dist-packages (from matplotlib->catboost) (1.4.7)\n",
            "Requirement already satisfied: packaging>=20.0 in /usr/local/lib/python3.10/dist-packages (from matplotlib->catboost) (24.1)\n",
            "Requirement already satisfied: pillow>=6.2.0 in /usr/local/lib/python3.10/dist-packages (from matplotlib->catboost) (10.4.0)\n",
            "Requirement already satisfied: pyparsing>=2.3.1 in /usr/local/lib/python3.10/dist-packages (from matplotlib->catboost) (3.2.0)\n",
            "Requirement already satisfied: tenacity>=6.2.0 in /usr/local/lib/python3.10/dist-packages (from plotly->catboost) (9.0.0)\n",
            "Downloading catboost-1.2.7-cp310-cp310-manylinux2014_x86_64.whl (98.7 MB)\n",
            "\u001b[2K   \u001b[90m━━━━━━━━━━━━━━━━━━━━━━━━━━━━━━━━━━━━━━━━\u001b[0m \u001b[32m98.7/98.7 MB\u001b[0m \u001b[31m6.6 MB/s\u001b[0m eta \u001b[36m0:00:00\u001b[0m\n",
            "\u001b[?25hInstalling collected packages: catboost\n",
            "Successfully installed catboost-1.2.7\n"
          ]
        }
      ]
    },
    {
      "cell_type": "markdown",
      "source": [],
      "metadata": {
        "id": "6l5U-hCz0kKk"
      }
    },
    {
      "cell_type": "markdown",
      "source": [],
      "metadata": {
        "id": "NaJhSLcy0j8_"
      }
    },
    {
      "cell_type": "markdown",
      "source": [],
      "metadata": {
        "id": "52HipA1h0j1B"
      }
    },
    {
      "cell_type": "markdown",
      "source": [],
      "metadata": {
        "id": "UpwFG33m0jrt"
      }
    },
    {
      "cell_type": "markdown",
      "source": [],
      "metadata": {
        "id": "4AObtAB6z62G"
      }
    },
    {
      "cell_type": "markdown",
      "source": [],
      "metadata": {
        "id": "lRBgMzq4z6zK"
      }
    }
  ]
}